{
 "cells": [
  {
   "cell_type": "markdown",
   "metadata": {},
   "source": [
    "# Psi4-NumPy Datasharing\n",
    "\n",
    "The heart of the Psi4NumPy project its the ability to easily share and manipulate quantities in Python. While Psi4 offers the ability to manipulate most objects and perform tensor operations at the Python layer, it is often much easier to use the NumPy project as its focus is on ease of use rather than optimal performance. Fortunately, Psi4 offers seemless integration with the NumPy framework. \n",
    "\n",
    "As before, let us start off with importing Psi4 and NumPy while also creating two `5 x 5` matrices:"
   ]
  },
  {
   "cell_type": "code",
   "execution_count": 4,
   "metadata": {
    "collapsed": true
   },
   "outputs": [],
   "source": [
    "import psi4\n",
    "import numpy as np\n",
    "\n",
    "# Build matrices with each module\n",
    "matrix = psi4.core.Matrix(5, 5)\n",
    "array = np.random.rand(5, 5)"
   ]
  },
  {
   "cell_type": "markdown",
   "metadata": {},
   "source": [
    "Conversion between the two can be as simple as:"
   ]
  },
  {
   "cell_type": "code",
   "execution_count": 5,
   "metadata": {
    "collapsed": false
   },
   "outputs": [],
   "source": [
    "np_mat = np.array(matrix)\n",
    "psi4_array = psi4.core.Matrix.from_array(np_mat)"
   ]
  },
  {
   "cell_type": "code",
   "execution_count": null,
   "metadata": {
    "collapsed": true
   },
   "outputs": [],
   "source": []
  }
 ],
 "metadata": {
  "anaconda-cloud": {},
  "kernelspec": {
   "display_name": "Python [default]",
   "language": "python",
   "name": "python3"
  },
  "language_info": {
   "codemirror_mode": {
    "name": "ipython",
    "version": 3
   },
   "file_extension": ".py",
   "mimetype": "text/x-python",
   "name": "python",
   "nbconvert_exporter": "python",
   "pygments_lexer": "ipython3",
   "version": "3.5.2"
  }
 },
 "nbformat": 4,
 "nbformat_minor": 1
}
