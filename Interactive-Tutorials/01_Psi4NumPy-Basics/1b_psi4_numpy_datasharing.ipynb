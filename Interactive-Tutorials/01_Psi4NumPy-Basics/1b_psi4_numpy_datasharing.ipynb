{
 "cells": [
  {
   "cell_type": "markdown",
   "metadata": {},
   "source": [
    "# Psi4-NumPy Datasharing\n",
    "\n",
    "The heart of the Psi4NumPy project its the ability to easily share and manipulate quantities in Python. While Psi4 offers the ability to manipulate most objects and perform tensor operations at the Python layer, it is often much easier to use the NumPy project as its focus is on ease of use rather than optimal performance. Fortunately, Psi4 offers seemless integration with the NumPy framework. More details on the underlying functions can be found in the Psi4 [documentation](http://psicode.org/psi4manual/master/numpy.html).\n",
    "\n",
    "As before, let us start off with importing Psi4 and NumPy while also creating a random `5 x 5` NumPy array:"
   ]
  },
  {
   "cell_type": "code",
   "execution_count": 1,
   "metadata": {
    "collapsed": true
   },
   "outputs": [],
   "source": [
    "import psi4\n",
    "import numpy as np\n",
    "\n",
    "# Random number array\n",
    "array = np.random.rand(5, 5)"
   ]
  },
  {
   "cell_type": "markdown",
   "metadata": {},
   "source": [
    "Converting this to the Psi4 Matrix class and back is as simple as:"
   ]
  },
  {
   "cell_type": "code",
   "execution_count": 4,
   "metadata": {
    "collapsed": false
   },
   "outputs": [
    {
     "name": "stdout",
     "output_type": "stream",
     "text": [
      "Allclose new_array, array: True\n"
     ]
    }
   ],
   "source": [
    "psi4_matrix = psi4.core.Matrix.from_array(array)\n",
    "new_array = np.array(psi4_matrix)\n",
    "\n",
    "print(\"Allclose new_array, array:\", np.allclose(new_array, array))"
   ]
  },
  {
   "cell_type": "markdown",
   "metadata": {
    "collapsed": true
   },
   "source": [
    "## Views\n",
    "Because both of these objects have the same in-memory data layout the conversion is accomplished through the NumPy [array_interface](https://docs.scipy.org/doc/numpy/reference/arrays.interface.html). This also opens the opportunity to manipulate the Psi4 Matrix and Vector classes directly in memory, we can do this through the `.np` attribute:"
   ]
  },
  {
   "cell_type": "code",
   "execution_count": 6,
   "metadata": {
    "collapsed": false
   },
   "outputs": [
    {
     "name": "stdout",
     "output_type": "stream",
     "text": [
      "Zero Psi4 Matrix:\n",
      "[[ 0.  0.  0.]\n",
      " [ 0.  0.  0.]\n",
      " [ 0.  0.  0.]]\n",
      "\n",
      "Matrix updated to ones:\n",
      "[[ 1.  1.  1.]\n",
      " [ 1.  1.  1.]\n",
      " [ 1.  1.  1.]]\n"
     ]
    }
   ],
   "source": [
    "matrix = psi4.core.Matrix(3, 3)\n",
    "print(\"Zero Psi4 Matrix:\")\n",
    "print(np.array(matrix))\n",
    "\n",
    "matrix.np[:] = 1\n",
    "print(\"\\nMatrix updated to ones:\")\n",
    "print(np.array(matrix))"
   ]
  },
  {
   "cell_type": "markdown",
   "metadata": {},
   "source": [
    "The `.np` attribute effectively returns a NumPy [view](http://scipy-cookbook.readthedocs.io/items/ViewsVsCopies.html). This view can then be manipulated as a conventional NumPy array and the underlying Psi4 Matrix data will be modified.\n",
    "\n",
    "**Warning!** The following operation operation is incorrect and can potenitally lead to confusion:"
   ]
  },
  {
   "cell_type": "code",
   "execution_count": 18,
   "metadata": {
    "collapsed": false
   },
   "outputs": [
    {
     "name": "stdout",
     "output_type": "stream",
     "text": [
      "[[ 0.  0.  0.]\n",
      " [ 0.  0.  0.]\n",
      " [ 0.  0.  0.]]\n"
     ]
    }
   ],
   "source": [
    "print(psi4.core.Matrix(3, 3).np)"
   ]
  },
  {
   "cell_type": "markdown",
   "metadata": {},
   "source": [
    "While the above operation works about ~90% of the time, occasisionally you will notice extremely large and small values. This is due to the fact that when you create the Psi4 Matrix and grab its view, the Psi4 Matrix it is no longer bound to anything and Python will attempt to \"garbage collect\" or remove the object. This sometimes happens *before* Python prints out the object so the NumPy view is point to a random piece of data in memory. A safe way to do this would be:"
   ]
  },
  {
   "cell_type": "code",
   "execution_count": 20,
   "metadata": {
    "collapsed": false
   },
   "outputs": [
    {
     "name": "stdout",
     "output_type": "stream",
     "text": [
      "[[ 0.  0.  0.]\n",
      " [ 0.  0.  0.]\n",
      " [ 0.  0.  0.]]\n",
      "[[ 0.  0.  0.]\n",
      " [ 0.  0.  0.]\n",
      " [ 0.  0.  0.]]\n"
     ]
    }
   ],
   "source": [
    "mat = psi4.core.Matrix(3, 3)\n",
    "print(mat.np)\n",
    "\n",
    "# or\n",
    "print(np.asarray(psi4.core.Matrix(3, 3)))"
   ]
  },
  {
   "cell_type": "markdown",
   "metadata": {},
   "source": [
    "Similar to the `.np` attribute one can use `np.asarray` to create a NumPy view of a Psi4 object. Keep in mind that this is different that `np.array` which will copy the data."
   ]
  },
  {
   "cell_type": "code",
   "execution_count": 23,
   "metadata": {
    "collapsed": false
   },
   "outputs": [
    {
     "name": "stdout",
     "output_type": "stream",
     "text": [
      "[[ 0.71373  0.06426  0.16284]\n",
      " [ 0.71058  0.13898  0.65268]\n",
      " [ 0.89404  0.02648  0.05117]]\n"
     ]
    }
   ],
   "source": [
    "mat = psi4.core.Matrix(3, 3)\n",
    "mat_view = np.asarray(mat)\n",
    "\n",
    "mat_view[:] = np.random.random(mat.shape)\n",
    "print(mat.np)"
   ]
  },
  {
   "cell_type": "markdown",
   "metadata": {},
   "source": [
    "Keep in mind that you must *update* this view using the `[]` syntax and not replace it (`=`). The following example should demonstrate the difference:"
   ]
  },
  {
   "cell_type": "code",
   "execution_count": 29,
   "metadata": {
    "collapsed": false
   },
   "outputs": [
    {
     "name": "stdout",
     "output_type": "stream",
     "text": [
      "[[ 0.71373  0.06426  0.16284]\n",
      " [ 0.71058  0.13898  0.65268]\n",
      " [ 0.89404  0.02648  0.05117]]\n"
     ]
    }
   ],
   "source": [
    "mat_view = np.zeros((3, 3))\n",
    "\n",
    "# Mat is not updated as we replaced the mat_view with a new NumPy matrix.\n",
    "print(mat.np)"
   ]
  },
  {
   "cell_type": "markdown",
   "metadata": {},
   "source": [
    "## Vector class\n",
    "Like the Psi4 Matrix class, the Vector class has similar accessors:"
   ]
  },
  {
   "cell_type": "code",
   "execution_count": 28,
   "metadata": {
    "collapsed": false
   },
   "outputs": [
    {
     "name": "stdout",
     "output_type": "stream",
     "text": [
      "[ 0.34589  0.99137  0.46597  0.03614  0.15314]\n"
     ]
    }
   ],
   "source": [
    "arr = np.random.rand(5)\n",
    "vec = psi4.core.Vector.from_array(arr)\n",
    "print(vec.np)"
   ]
  }
 ],
 "metadata": {
  "anaconda-cloud": {},
  "kernelspec": {
   "display_name": "Python [default]",
   "language": "python",
   "name": "python3"
  },
  "language_info": {
   "codemirror_mode": {
    "name": "ipython",
    "version": 3
   },
   "file_extension": ".py",
   "mimetype": "text/x-python",
   "name": "python",
   "nbconvert_exporter": "python",
   "pygments_lexer": "ipython3",
   "version": "3.5.2"
  }
 },
 "nbformat": 4,
 "nbformat_minor": 1
}
