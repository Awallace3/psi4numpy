{
 "cells": [
  {
   "cell_type": "markdown",
   "metadata": {},
   "source": [
    "# DFT: The LDA kernel\n",
    "## I. Theory\n",
    "\n",
    "Previously we described the DFT Fock matrix as\n",
    "$$F^{DFT}_{\\mu\\nu} = H_{\\mu\\nu} + 2J[D]_{\\mu\\nu} - \\zeta K[D]_{\\mu\\nu} + V^{\\rm{xc}}_{\\mu\\nu}$$\n",
    "upon examination it is revealed that the only quantities that we cannot yet compute is $V^{\\rm{xc}}$. \n",
    "\n",
    "Here we will explore the local density approximation (LDA) functionals where $V^{\\rm{xc}} = f[\\rho(\\hat{r})]$. For these functionals the only required bit of information is the density at the grid point. As we discussed the grid last chapter we will now focus on how exactly to obtain the density on the grid."
   ]
  },
  {
   "cell_type": "code",
   "execution_count": 1,
   "metadata": {
    "collapsed": true
   },
   "outputs": [],
   "source": [
    "import psi4\n",
    "import numpy as np\n",
    "\n",
    "mol = psi4.geometry(\"\"\"\n",
    "He\n",
    "symmetry c1\n",
    "\"\"\")\n",
    "psi4.set_options({'BASIS':               'CC-PVDZ',\n",
    "                  'DFT_SPHERICAL_POINTS': 6,\n",
    "                  'DFT_RADIAL_POINTS':    5})\n",
    "\n",
    "svwn_w, wfn = psi4.energy(\"SVWN\", return_wfn=True)\n",
    "Vpot = wfn.V_potential()"
   ]
  },
  {
   "cell_type": "markdown",
   "metadata": {},
   "source": [
    "## 2. Density on a Grid\n",
    "The density on the grid can be expressed as\n",
    "$$\\rho^{\\alpha}(\\hat{r}) = \\sum\\limits_{\\mu\\nu} D^\\alpha_{\\mu\\nu}\\phi_\\mu(\\hat{r})\\phi_\\nu(\\hat{r})$$\n",
    "\n",
    "Where $\\hat{r}$ will run over the entire grid. Using this we can build collocation matrices that map between atomic orbital and grid space $$\\phi_\\mu(\\hat{r}) \\rightarrow \\phi_\\mu^p$$\n",
    "where our $p$ index will be the index of individual grid points. Therefore our full expression is:\n",
    "\n",
    "$$\\rho_p = \\phi_\\mu^p D_{\\mu\\nu} \\phi_\\nu^p$$"
   ]
  },
  {
   "cell_type": "code",
   "execution_count": 2,
   "metadata": {
    "collapsed": false
   },
   "outputs": [
    {
     "name": "stdout",
     "output_type": "stream",
     "text": [
      "[ 0.       0.00046  0.04882  0.57881  1.36051]\n",
      "[ 0.       0.       0.       0.       0.       0.00046  0.00046  0.00046  0.00046  0.00046  0.04882  0.04882  0.04882  0.04882  0.04882  0.57881  0.57881  0.57881  0.57881  0.57881  1.36051  1.36051\n",
      "  1.36051  1.36051  1.36051]\n"
     ]
    }
   ],
   "source": [
    "D = wfn.Da()\n",
    "\n",
    "rho = []\n",
    "points_func = Vpot.properties()[0]\n",
    "superfunc = Vpot.functional()\n",
    "for b in range(Vpot.nblocks()):\n",
    "    \n",
    "    block = Vpot.get_block(b)\n",
    "    points_func.compute_points(block)\n",
    "    npoints = block.npoints()\n",
    "    \n",
    "    phi = np.array(points_func.basis_values()[\"PHI\"])[:npoints]\n",
    "    \n",
    "    rho = np.einsum('pm,mn,pn->p', phi, D, phi)\n",
    "    print(rho)"
   ]
  },
  {
   "cell_type": "markdown",
   "metadata": {},
   "source": [
    "## 3. Evaluating the kernel\n",
    "\n"
   ]
  },
  {
   "cell_type": "code",
   "execution_count": 79,
   "metadata": {
    "collapsed": false
   },
   "outputs": [
    {
     "name": "stdout",
     "output_type": "stream",
     "text": [
      "RHO [ 0.       0.00091  0.09764  1.15763  2.72103]\n",
      "S   [-0.      -0.00007 -0.0332  -0.89773 -2.80562]\n",
      "SR  [-0.0004  -0.07269 -0.34535 -0.7875  -1.04706]\n",
      "Sxc [-0.      -0.00007 -0.0332  -0.89773 -2.80562]\n",
      "Sxc [-0.00052 -0.09544 -0.45345 -1.03398 -1.37479]\n",
      "---\n",
      "\n",
      "VK  [-0.      -0.0001  -0.04022 -1.00551 -3.08011]\n",
      "VR  [-0.00091 -0.06997 -0.26674 -0.56803 -0.74243]\n",
      "---\n",
      "\n"
     ]
    }
   ],
   "source": [
    "D = wfn.Da()\n",
    "\n",
    "rho = []\n",
    "points_func = Vpot.properties()[0]\n",
    "superfunc = Vpot.functional()\n",
    "\n",
    "func = psi4.core.LibXCFunctional(\"XC_LDA_X\", True)\n",
    "#func = psi4.core.LibXCFunctional(\"XC_LDA_C_VWN_RPA\", True)\n",
    "\n",
    "RS_FACTOR = 0.6203504908994000166680068120477781673508\n",
    "for b in range(Vpot.nblocks()):\n",
    "    \n",
    "    block = Vpot.get_block(b)\n",
    "    points_func.compute_points(block)\n",
    "    npoints = block.npoints()\n",
    "    \n",
    "    phi = np.array(points_func.basis_values()[\"PHI\"])[:npoints]\n",
    "    \n",
    "    rho = 2.0 * np.einsum('pm,mn,pn->p', phi, D, phi)\n",
    "    #rho[rho < 1.e-3] = 1.e-3\n",
    "    print(\"RHO\", rho)\n",
    "    \n",
    "    inp = {}\n",
    "    inp[\"RHO_A\"] = psi4.core.Vector.from_array(rho)\n",
    "    \n",
    "    ret = superfunc.compute_functional(inp, -1)\n",
    "    vk = np.array(ret[\"V\"])[:npoints]\n",
    "    v_rho_a = 0.5 * np.array(ret[\"V_RHO_A\"])[:npoints]\n",
    "    \n",
    "    alpha = 4.0/3.0\n",
    "    denx = (rho ** (-1.0 /3.0))\n",
    "    v_x = 0.984745953 * ( -3/4) * rho / denx\n",
    "    v_rho_x = (-3/4) / denx \n",
    "    print(\"S  \", v_x)\n",
    "    print(\"SR \", v_rho_x)\n",
    "    \n",
    "    lrs = np.log(denx)\n",
    "    rpa_c = 0.0311 * lrs - 0.048 + 0.009 * lrs * denx -0.017 * denx\n",
    "    #print(\"RPA\", rpa_c)\n",
    "    \n",
    "    out = {}\n",
    "    out[\"V\"] = psi4.core.Vector(npoints)\n",
    "    out[\"V_RHO_A\"] = psi4.core.Vector(npoints)\n",
    "    \n",
    "    func.compute_functional(inp, out, npoints, 1)\n",
    "    print(\"Sxc\", out[\"V\"].np[:npoints])\n",
    "    print(\"Sxc\", out[\"V_RHO_A\"].np[:npoints])\n",
    "    \n",
    "    #print(\"---\\n\")\n",
    "    #print(\"VK \", np.array(vk))\n",
    "    print(\"VR \", np.array(v_rho_a))\n",
    "    #print(np.array(v_rho_a))\n",
    "    print(\"---\\n\")\n",
    "    break\n",
    "    "
   ]
  },
  {
   "cell_type": "markdown",
   "metadata": {},
   "source": [
    "Refs:\n",
    "- Johnson, B. G.; Fisch M. J.; *J. Chem. Phys.*, **1994**, *100*, 7429"
   ]
  },
  {
   "cell_type": "code",
   "execution_count": null,
   "metadata": {
    "collapsed": true
   },
   "outputs": [],
   "source": []
  }
 ],
 "metadata": {
  "kernelspec": {
   "display_name": "Python [conda root]",
   "language": "python",
   "name": "conda-root-py"
  },
  "language_info": {
   "codemirror_mode": {
    "name": "ipython",
    "version": 3
   },
   "file_extension": ".py",
   "mimetype": "text/x-python",
   "name": "python",
   "nbconvert_exporter": "python",
   "pygments_lexer": "ipython3",
   "version": "3.5.2"
  }
 },
 "nbformat": 4,
 "nbformat_minor": 1
}
