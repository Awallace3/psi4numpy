{
 "cells": [
  {
   "cell_type": "markdown",
   "metadata": {},
   "source": [
    "# The gradient regularized asymptotic correction.\n",
    "## I. The ionization potenital issue\n",
    "\n",
    "Often with density functional theory one would like to do something interesting with the resulting wavefunction; however a number of issues exsist with convention DFT computations.\n",
    "\n",
    "Let us first compute Ionization Potential at several different levels of the theory and then compare the results to the NIST database (http://physics.nist.gov)."
   ]
  },
  {
   "cell_type": "code",
   "execution_count": 1,
   "metadata": {
    "collapsed": false
   },
   "outputs": [],
   "source": [
    "import psi4\n",
    "import numpy as np\n",
    "import ks_helper as ks\n",
    "import matplotlib.pyplot as plt\n",
    "%matplotlib inline\n",
    "\n",
    "mol = psi4.geometry(\"\"\"\n",
    "Ne\n",
    "symmetry c1\n",
    "\"\"\")\n",
    "options = {'BASIS':     'aug-cc-pVDZ',\n",
    "           'NAT_ORBS':  True,\n",
    "           'NUM_ROOTS': 2,\n",
    "           'QC_MODULE': 'DETCI'}\n",
    "psi4.set_options(options)\n",
    "\n",
    "scf_e, scf_wfn = psi4.energy(\"SCF\", return_wfn=True)\n",
    "scf_e, dft_wfn = psi4.energy(\"PBE0\", return_wfn=True)\n",
    "scf_e, ci_wfn =  psi4.energy(\"CISD\", return_wfn=True)"
   ]
  },
  {
   "cell_type": "markdown",
   "metadata": {},
   "source": [
    "Now that we have the Wavefunctions we can then compute the ionization potenital. For SCF theories this is the the energy of the HOMO while for more advanced theories, it is the differente between the ground and excited states. We can obtain the IP for each level of theory in the following way:"
   ]
  },
  {
   "cell_type": "code",
   "execution_count": 2,
   "metadata": {
    "collapsed": false
   },
   "outputs": [
    {
     "name": "stdout",
     "output_type": "stream",
     "text": [
      "Neon Ionization Potential (eV)\n",
      "SCF        23.2125\n",
      "PBE0       16.0337\n",
      "CISD       22.2776\n",
      "NIST       21.5645\n"
     ]
    }
   ],
   "source": [
    "scf_ip = -1 * scf_wfn.epsilon_a()[scf_wfn.nalpha()-1] * psi4.p4const.psi_hartree2ev\n",
    "dft_ip = -1 * dft_wfn.epsilon_a()[dft_wfn.nalpha()-1] * psi4.p4const.psi_hartree2ev\n",
    "ci_ip = -1 * (psi4.core.get_variable(\"CI ROOT 0 TOTAL ENERGY\") - psi4.core.get_variable(\"CI ROOT 1 TOTAL ENERGY\")) * psi4.p4const.psi_hartree2ev\n",
    "\n",
    "print(\"Neon Ionization Potential (eV)\")\n",
    "print(\"SCF     %10.4f\" % scf_ip)\n",
    "print(\"PBE0    %10.4f\" % dft_ip)\n",
    "print(\"CISD    %10.4f\" % ci_ip)\n",
    "print(\"NIST    %10.4f\" % 21.5645)"
   ]
  },
  {
   "cell_type": "markdown",
   "metadata": {},
   "source": [
    "## I. Density shapes\n",
    "If we think carefully about the ionization potenital and what this really means it can be summed up susinctly as \"How hard is it for the electron to leave the system\" or \"How deep is our potenital well\"? A easy way to view the shape of the potenital for a given method is to inspect the density as a function of spatial extent. A weaker potential would mean that the density extends further than it should and our IP would be too small. While a stronger potenital would mean that the density is more concentrated and the IP is too large. As we only have a single atom we can project our density into grid space and then sort the results as a function of distance from the nucleous. "
   ]
  },
  {
   "cell_type": "code",
   "execution_count": 3,
   "metadata": {
    "collapsed": false
   },
   "outputs": [],
   "source": [
    "def one_electron_radial(matrices, Vpot):\n",
    "    \"\"\"\n",
    "    For every matrix in matrices, computes the radial density using the incoming Vpot object.\n",
    "    \"\"\"\n",
    "    \n",
    "    results = [[] for x in matrices]\n",
    "    Rlist = []\n",
    "    \n",
    "    points_func = Vpot.properties()[0]\n",
    "    superfunc = Vpot.functional()\n",
    "\n",
    "    xc_e = 0.0\n",
    "    vv10_e = 0.0\n",
    "    \n",
    "    # First loop over the outer set of blocks\n",
    "    for block in range(Vpot.nblocks()):\n",
    "        \n",
    "        # Obtain general grid information\n",
    "        grid = Vpot.get_block(block)\n",
    "        x = np.array(grid.x())\n",
    "        y = np.array(grid.y())\n",
    "        z = np.array(grid.z())\n",
    "        npoints = z.shape[0]\n",
    "\n",
    "        # Get radial information\n",
    "        R = ((x ** 2) + (y ** 2) + (z ** 2)) ** 0.5\n",
    "        Rlist.append(R)\n",
    "        \n",
    "        # Loop over and compute the density for each matrix\n",
    "        for num, mat in enumerate(matrices):\n",
    "            points_func.set_pointers(mat)\n",
    "            points_func.compute_points(grid)\n",
    "            results[num].append(np.array(points_func.point_values()[\"RHO_A\"])[:npoints])\n",
    "       \n",
    "    # Stack R\n",
    "    Rlist = np.hstack(Rlist)\n",
    "    \n",
    "    # Get the R unique and sort\n",
    "    unique, uidx = np.unique(Rlist, return_index=True)\n",
    "    Rlist = Rlist[uidx]\n",
    "    \n",
    "    # Numpy is magic, it would be worthwhile to consider excatly what this does\n",
    "    results = [np.hstack(x)[uidx] for x in results]\n",
    "\n",
    "    return (Rlist, results)\n",
    "\n",
    "# Compute the radial densities\n",
    "sup = psi4.driver.dft_funcs.build_superfunctional(\"SVWN\", True)[0]\n",
    "Vpot = psi4.core.VBase.build(scf_wfn.basisset(), sup, \"RV\")\n",
    "Vpot.initialize()\n",
    "\n",
    "R, data = one_electron_radial([scf_wfn.Da(), dft_wfn.Da(), ci_wfn.Da()], Vpot)"
   ]
  },
  {
   "cell_type": "markdown",
   "metadata": {},
   "source": [
    "Now that we have the radial densities, we build  a function that will plot the density as a ratio between\n",
    "the method a benchmark. Here we will select the CISD densities as the benchmark and plot the SCF and DFT quanties against them."
   ]
  },
  {
   "cell_type": "code",
   "execution_count": 33,
   "metadata": {
    "collapsed": false
   },
   "outputs": [],
   "source": [
    "def plot_scatter_ratio(dictionary, bench, x_values):\n",
    "    fig1 = plt.figure()\n",
    "    ax1 = fig1.add_subplot(111)\n",
    "    \n",
    "    for k, v in dictionary.items():\n",
    "        ax1.plot(x_values, v / bench, label=k)\n",
    "        \n",
    "    ax1.legend(loc='upper left')\n",
    "    ax1.set_xlim(0, 7)\n",
    "    ax1.set_xlabel('R')\n",
    "    ax1.set_ylabel('rho(r) / rho(r)_bench')\n",
    "    \n",
    "    plt.plot([0, 7], [1.0, 1.0], 'k-')"
   ]
  },
  {
   "cell_type": "markdown",
   "metadata": {},
   "source": [
    "Plotting this data we note that the SCF density falls off too rapidly, meaning that potential is too deep while the DFT density falls off far too slowly indicating the potenital is too shallow. For example many theories examine the overlap between densities. From this chart we can surmise issues that would arise with both DFT and HF theories."
   ]
  },
  {
   "cell_type": "code",
   "execution_count": 34,
   "metadata": {
    "collapsed": false
   },
   "outputs": [
    {
     "data": {
      "image/png": "[encoded data removed]",
      "text/plain": [
       "<matplotlib.figure.Figure at 0x11cbbfa90>"
      ]
     },
     "metadata": {},
     "output_type": "display_data"
    }
   ],
   "source": [
    "data_dict = {\"SCF\": data[0], \"DFT\": data[1]}\n",
    "plot_scatter_ratio(data_dict, data[2], R)"
   ]
  },
  {
   "cell_type": "markdown",
   "metadata": {},
   "source": [
    "## 2. The GRAC Correction\n",
    "The question then arises, what if we could correct the DFT potential asymptotic so that it recovers the correct density and therefore the correction ionization potenital. Effectively we want to accomplish:\n",
    "\n",
    "$$v_{\\rm{xc}}({\\bf r}) = -\\frac{1}{r} + v_{\\rm{xc}}(\\infty)$$\n",
    "\n",
    "However, for correct asympotics this would require the exact $v_{\\rm{xc}}$ potenital. As we operate completely in the Density Funcitonal Approximation domain, this is not a possible task. Instead, the GRAC correction requires that we know our Ionization Potential and we can replace the complex DFT term with the following:\n",
    "\n",
    "$$v_{\\rm{xc}}({\\bf r}) = -\\frac{1}{r} + (I_{\\bf P} + \\epsilon_N)$$\n",
    "\n",
    "Where $\\epsilon_N$ is our HOMO energy. This is quite clever as we now only need a functional that correctly goes to the $\\frac{1}{r}$ asymptotic. As no general functional accomplishes this task a special functional, \"LB94\", was built with exactly this property. The downside is that this functionals characteristics are quite poor in the \"bulk\" region or the region near the atom itself. To generalize this a switching function is introduced:\n",
    "\n",
    "$$\n",
    "\\begin{align}\n",
    "v_{\\rm{xc}}^{GRAC}(\\rho({\\bf r})) &= [1 - f[x({\\bf r})]]v_{\\rm{XC}}^{\\rm bulk}+ f[x({\\bf r})]v_{\\rm{XC}}^{\\rm Asym.}  \\\\ \\\\\n",
    "f[x({\\bf r})] &= \\frac{1}{1 + e^{-\\alpha[x({\\bf r}) - \\beta]}}\\\\\\\\\n",
    "x({\\bf r}) &= \\frac{| \\nabla \\rho({\\bf r}) | }{\\rho^\\frac{4}{3}({\\bf r})}\n",
    "\\end{align}\n",
    "$$\n",
    "\n",
    "\n",
    "Thus, in such a way we seemlessly switch between the bulk and asymptotic potenitals. In addition, such a formulation allows us to apply the GRAC correction to any underlying functional in a general way.\n"
   ]
  },
  {
   "cell_type": "code",
   "execution_count": 13,
   "metadata": {
    "collapsed": false,
    "scrolled": true
   },
   "outputs": [
    {
     "name": "stdout",
     "output_type": "stream",
     "text": [
      "\n",
      "Number of occupied orbitals: 5\n",
      "Number of basis functions:   23\n",
      "\n",
      "Total time taken for setup: 0.104 seconds\n",
      "\n",
      "Starting SCF iterations:\n",
      "\n",
      "    Iter            Energy             XC E         Delta E        D RMS\n",
      "\n",
      "SCF Iter  1: -122.77276496638299   -11.5514811   -1.22773E+02   1.54636E-01\n",
      "SCF Iter  2: -117.91648102465675    -6.5084631    4.85628E+00   1.92640E-01\n",
      "SCF Iter  3: -128.74463947688568    -9.6261545   -1.08282E+01   2.12715E-02\n",
      "SCF Iter  4: -128.81102425572726    -9.4609713   -6.63848E-02   8.13447E-03\n",
      "SCF Iter  5: -128.82008389738900    -9.3869302   -9.05964E-03   1.40492E-03\n",
      "SCF Iter  6: -128.82045508576886    -9.3712711   -3.71188E-04   7.47537E-06\n",
      "SCF Iter  7: -128.82045611606000    -9.3713195   -1.03029E-06   5.90707E-07\n",
      "SCF Iter  8: -128.82045610026913    -9.3713253    1.57909E-08   2.69714E-08\n",
      "\n",
      "Total time for SCF iterations: 5.743 seconds \n",
      "\n",
      "Final SCF energy: -128.82045610 hartree\n"
     ]
    }
   ],
   "source": [
    "# Build a LB 94 functional\n",
    "lb94_func = psi4.core.SuperFunctional.blank()\n",
    "lb94_func.set_max_points(500000)\n",
    "lb94_func.set_deriv(1)\n",
    "\n",
    "# Add member functionals\n",
    "tmp_func = psi4.core.LibXCFunctional('XC_GGA_X_LB', True)\n",
    "# We need to scale this for the amount of exact exchange is in the functional\n",
    "tmp_func.set_alpha(0.75)\n",
    "lb94_func.add_x_functional(tmp_func)\n",
    "\n",
    "# Dont forget VWN correlation!\n",
    "tmp_func = psi4.core.LibXCFunctional('XC_LDA_C_VWN', True)\n",
    "lb94_func.add_c_functional(tmp_func)\n",
    "\n",
    "# Allocate the functional\n",
    "lb94_func.allocate()\n",
    "\n",
    "grac_shift = (21.5645 - dft_ip) /  psi4.p4const.psi_hartree2ev\n",
    "\n",
    "def compute_V_GRAC(D, Vpot):\n",
    "    \"\"\"\n",
    "    Computes the XC energy and the V_xc Fock term\n",
    "    \"\"\"\n",
    "    \n",
    "    grac_alpha = 0.5\n",
    "    grac_beta = 40.0\n",
    "\n",
    "    nbf = D.shape[0]\n",
    "    Varr = np.zeros((nbf, nbf))\n",
    "\n",
    "    points_func = Vpot.properties()[0]\n",
    "    superfunc = Vpot.functional()\n",
    "    \n",
    "    total_e = 0.0\n",
    "    \n",
    "    for x in range(Vpot.nblocks()):\n",
    "\n",
    "        # Grid data\n",
    "        grid = Vpot.get_block(x)\n",
    "        w = np.array(grid.w())\n",
    "        npoints = w.shape[0]\n",
    "\n",
    "        points_func.compute_points(grid)\n",
    "        lpos = np.array(grid.functions_local_to_global())\n",
    "        nfunctions = lpos.shape[0]\n",
    "        \n",
    "        phi = np.array(points_func.basis_values()[\"PHI\"])[:npoints, :nfunctions]\n",
    "        \n",
    "        rho = np.array(points_func.point_values()[\"RHO_A\"])[:npoints]\n",
    "        gamma = np.array(points_func.point_values()[\"GAMMA_AA\"])[:npoints]\n",
    "\n",
    "        grac_x = (gamma ** 0.5) / (rho ** (4.0/3.0))\n",
    "        grac_fx = 1.0 / (1.0 + np.exp(-grac_alpha * (grac_x - grac_beta)))\n",
    "        \n",
    "        ret = superfunc.compute_functional(points_func.point_values(), -1)\n",
    "        lbret = lb94_func.compute_functional(points_func.point_values(), -1)\n",
    "        \n",
    "        total_e += np.vdot(np.array(ret[\"V\"])[:npoints], w)\n",
    "        \n",
    "        v_rho_a  = ( 1 - grac_fx ) * (np.array(ret[\"V_RHO_A\"])[:npoints] - grac_shift)\n",
    "        v_rho_a += grac_fx * np.array(lbret[\"V_RHO_A\"])[:npoints]\n",
    "        v_rho_a *= 0.5 * w\n",
    "        \n",
    "        Vtmp = np.einsum('pb,p,pa->ab', phi, v_rho_a, phi)\n",
    "\n",
    "        # GGA\n",
    "        rho_x = np.array(points_func.point_values()[\"RHO_AX\"])[:npoints]\n",
    "        rho_y = np.array(points_func.point_values()[\"RHO_AY\"])[:npoints]\n",
    "        rho_z = np.array(points_func.point_values()[\"RHO_AZ\"])[:npoints]\n",
    "        \n",
    "        phi_x = np.array(points_func.basis_values()[\"PHI_X\"])[:npoints, :nfunctions]\n",
    "        phi_y = np.array(points_func.basis_values()[\"PHI_Y\"])[:npoints, :nfunctions]\n",
    "        phi_z = np.array(points_func.basis_values()[\"PHI_Z\"])[:npoints, :nfunctions]\n",
    "        \n",
    "        v_gamma  = (1 - grac_fx) * np.array(ret[\"V_GAMMA_AA\"])[:npoints]\n",
    "        v_gamma *= 2.0 * w\n",
    "        Vtmp += np.einsum('pb,p,p,pa->ab', phi, v_gamma, rho_x, phi_x)\n",
    "        Vtmp += np.einsum('pb,p,p,pa->ab', phi, v_gamma, rho_y, phi_y)\n",
    "        Vtmp += np.einsum('pb,p,p,pa->ab', phi, v_gamma, rho_z, phi_z)\n",
    "\n",
    "        \n",
    "        Varr[(lpos[:, None], lpos)] += Vtmp + Vtmp.T\n",
    "\n",
    "    return total_e, Varr\n",
    "\n",
    "# Test our function the the handy ks solver.\n",
    "grac_e, grac_data = ks.ks_solver(\"PBE0\", mol, options, compute_V_GRAC)       "
   ]
  },
  {
   "cell_type": "markdown",
   "metadata": {},
   "source": [
    "We can now check against the Psi4 reference implementation. Note that we set the GRAC shift on either side of the computation so that we do not contaminate other computations."
   ]
  },
  {
   "cell_type": "code",
   "execution_count": 8,
   "metadata": {
    "collapsed": false
   },
   "outputs": [
    {
     "name": "stdout",
     "output_type": "stream",
     "text": [
      "-128.82045597323582\n"
     ]
    }
   ],
   "source": [
    "psi4.set_options({\"dft_grac_shift\": grac_shift})\n",
    "print(psi4.energy(\"PBE0\"))\n",
    "psi4.set_options({\"dft_grac_shift\": 0.0})"
   ]
  },
  {
   "cell_type": "markdown",
   "metadata": {},
   "source": [
    "## 3. Inspecting the outcome\n",
    "Now that we applied the GRAC shift we can observe the density and see how well we do."
   ]
  },
  {
   "cell_type": "code",
   "execution_count": 25,
   "metadata": {
    "collapsed": false
   },
   "outputs": [
    {
     "name": "stdout",
     "output_type": "stream",
     "text": [
      "Neon Ionization Potential (eV)\n",
      "SCF        23.2125\n",
      "PBE0       16.0337\n",
      "PBE0-AC    21.4447\n",
      "CISD       22.2776\n",
      "NIST       21.5645\n"
     ]
    }
   ],
   "source": [
    "grac_ip = -1 * grac_data[\"eigenvalues\"][dft_wfn.nalpha()-1] * psi4.p4const.psi_hartree2ev\n",
    "\n",
    "print(\"Neon Ionization Potential (eV)\")\n",
    "print(\"SCF     %10.4f\" % scf_ip)\n",
    "print(\"PBE0    %10.4f\" % dft_ip)\n",
    "print(\"PBE0-AC %10.4f\" % grac_ip)\n",
    "print(\"CISD    %10.4f\" % ci_ip)\n",
    "print(\"NIST    %10.4f\" % 21.5645)"
   ]
  },
  {
   "cell_type": "markdown",
   "metadata": {},
   "source": [
    "We observe that our ionization potenital is now much closer to the correct ionization potenital and while the density is not perfect, it is much closer to the CISD density."
   ]
  },
  {
   "cell_type": "code",
   "execution_count": 35,
   "metadata": {
    "collapsed": false
   },
   "outputs": [
    {
     "data": {
      "image/png": "[encoded data removed]",
      "text/plain": [
       "<matplotlib.figure.Figure at 0x11a85e128>"
      ]
     },
     "metadata": {},
     "output_type": "display_data"
    }
   ],
   "source": [
    "R, data = one_electron_radial([scf_wfn.Da(), dft_wfn.Da(), grac_data[\"Da\"], ci_wfn.Da()], Vpot)\n",
    "data_dict = {\"SCF\": data[0], \"DFT\": data[1], \"DFT-AC\": data[2]}\n",
    "plot_scatter_ratio(data_dict, data[3], R)"
   ]
  },
  {
   "cell_type": "markdown",
   "metadata": {},
   "source": [
    "Refs:\n",
    " - M. Gruning, O. V. Gritsenko, S. J. A. van Gisbergen, and E. J. BaerendsJ. Chem. Phys., **2001**, *114*, 652"
   ]
  },
  {
   "cell_type": "code",
   "execution_count": null,
   "metadata": {
    "collapsed": true
   },
   "outputs": [],
   "source": []
  }
 ],
 "metadata": {
  "anaconda-cloud": {},
  "kernelspec": {
   "display_name": "Python [conda root]",
   "language": "python",
   "name": "conda-root-py"
  },
  "language_info": {
   "codemirror_mode": {
    "name": "ipython",
    "version": 3
   },
   "file_extension": ".py",
   "mimetype": "text/x-python",
   "name": "python",
   "nbconvert_exporter": "python",
   "pygments_lexer": "ipython3",
   "version": "3.5.2"
  }
 },
 "nbformat": 4,
 "nbformat_minor": 1
}
