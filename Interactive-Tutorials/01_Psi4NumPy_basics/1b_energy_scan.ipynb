{
 "cells": [
  {
   "cell_type": "markdown",
   "metadata": {},
   "source": [
    "## Energy Scan\n",
    "In this example we will compute and fit a potenital energy curve for the Helium dimer."
   ]
  },
  {
   "cell_type": "code",
   "execution_count": null,
   "metadata": {
    "collapsed": false
   },
   "outputs": [],
   "source": [
    "import psi4"
   ]
  },
  {
   "cell_type": "markdown",
   "metadata": {},
   "source": [
    "To begin with lets create a string representation of our Helium dimer where the `--` seperates the two Helium atoms into fragments (important later) and the variable `**R**` represents the distance between the Helium atoms."
   ]
  },
  {
   "cell_type": "code",
   "execution_count": null,
   "metadata": {
    "collapsed": true
   },
   "outputs": [],
   "source": [
    "mol_string = \"\"\"\n",
    "He\n",
    "--\n",
    "He 1 **R**\n",
    "\"\"\""
   ]
  },
  {
   "cell_type": "markdown",
   "metadata": {},
   "source": [
    "Now we can build a series of Helium atoms at different seperations and compute the energy at each points."
   ]
  },
  {
   "cell_type": "code",
   "execution_count": null,
   "metadata": {
    "collapsed": false
   },
   "outputs": [],
   "source": [
    "distances = [2.875, 3.0, 3.125, 3.25, 3.375, 3.5, 3.75, 4.0, 4.5, 5.0, 6.0, 7.0]\n",
    "energies = []\n",
    "for d in distances:\n",
    "    # Build a new molecule at each seperation\n",
    "    mol = psi4.geometry(mol_string.replace('**R**', str(d)))\n",
    "    \n",
    "    # Compute the Countpoise-Corrected interaction energy\n",
    "    en = psi4.energy('MP2/aug-cc-pVDZ', molecule=mol, bsse_type='cp')\n",
    "\n",
    "    # Place in a reasonable unit, Wavenumbers in this case\n",
    "    en *= psi4.p4const.psi_hartree2wavenumbers\n",
    "    \n",
    "    # Append the value to our list\n",
    "    energies.append(en)\n",
    "\n",
    "print(\"Finished computing the potential!\")"
   ]
  },
  {
   "cell_type": "markdown",
   "metadata": {},
   "source": [
    "We can use the `NumPy` library to fit a curve. In this case we will fit a Lennard-Jones potential."
   ]
  },
  {
   "cell_type": "code",
   "execution_count": null,
   "metadata": {
    "collapsed": true
   },
   "outputs": [],
   "source": [
    "import numpy as np"
   ]
  },
  {
   "cell_type": "code",
   "execution_count": null,
   "metadata": {
    "collapsed": false
   },
   "outputs": [],
   "source": [
    "# Fit the data in a linear leastsq way to a -12, -6 polynomial\n",
    "powers = [-12, -6]\n",
    "x = np.power(np.array(distances).reshape(-1, 1), powers)\n",
    "coefs = np.linalg.lstsq(x, energies)[0]\n",
    "\n",
    "# Build a list of points\n",
    "fpoints = np.linspace(2, 7, 50).reshape(-1, 1)\n",
    "fdata = np.power(fpoints, powers)\n",
    "\n",
    "fit_energies = np.dot(fdata, coefs)"
   ]
  },
  {
   "cell_type": "markdown",
   "metadata": {},
   "source": [
    "To visualize our results we can use the matplotlib library. The `%matplotlib inline` is a \"magic\" iPython command so that the graphs will show up in the notebook itself."
   ]
  },
  {
   "cell_type": "code",
   "execution_count": null,
   "metadata": {
    "collapsed": true
   },
   "outputs": [],
   "source": [
    "import matplotlib.pyplot as plt\n",
    "%matplotlib inline"
   ]
  },
  {
   "cell_type": "code",
   "execution_count": null,
   "metadata": {
    "collapsed": false
   },
   "outputs": [],
   "source": [
    "plt.xlim((2, 7)) # X limits\n",
    "plt.ylim((-7, 2)) # Y limits\n",
    "plt.scatter(distances, energies) # Scatter plot of the distances/energies\n",
    "plt.plot(fpoints, fit_energies) # Fit data\n",
    "plt.plot([0,10], [0,0], 'k-') # Make a line at 0"
   ]
  },
  {
   "cell_type": "code",
   "execution_count": null,
   "metadata": {
    "collapsed": true
   },
   "outputs": [],
   "source": []
  }
 ],
 "metadata": {
  "anaconda-cloud": {},
  "kernelspec": {
   "display_name": "Python [default]",
   "language": "python",
   "name": "python3"
  },
  "language_info": {
   "codemirror_mode": {
    "name": "ipython",
    "version": 3
   },
   "file_extension": ".py",
   "mimetype": "text/x-python",
   "name": "python",
   "nbconvert_exporter": "python",
   "pygments_lexer": "ipython3",
   "version": "3.5.2"
  }
 },
 "nbformat": 4,
 "nbformat_minor": 1
}
