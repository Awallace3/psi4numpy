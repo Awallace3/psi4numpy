{
 "cells": [
  {
   "cell_type": "markdown",
   "metadata": {},
   "source": [
    "# Density Fitting\n",
    "\n",
    "Density fitting is an extremely useful tool to reduce the computational scaling of many quantum chemical methods.  Density fitting works by approximating the four-index electron repulsion integral (ERI) tensors from Hartree-Fock theory, $g_{\\mu\\nu\\lambda\\sigma} = (\\mu\\nu|\\lambda\\sigma)$, by\n",
    "\n",
    "$$(\\mu\\nu|\\lambda\\sigma) \\approx \\widetilde{(\\mu\\nu|P)}[J^{-1}]_{PQ}\\widetilde{(Q|\\lambda\\sigma)}$$\n",
    "\n",
    "where the Coulomb metric $[J]_{PQ}$ and the three-index integral $\\widetilde{(Q|\\lambda\\sigma)}$ are defined as\n",
    "\n",
    "\\begin{align}\n",
    "[J]_{PQ} &= \\int P({\\bf r}_1)\\frac{1}{{\\bf r}_{12}}Q({\\bf r}_2){\\rm d}^3{\\bf r}_1{\\rm d}^3{\\bf r}_2\\\\\n",
    "\\widetilde{(Q|\\lambda\\sigma)} &= \\int Q({\\bf r}_1)\\frac{1}{{\\bf r}_{12}}\\lambda({\\bf r}_2)\\sigma({\\bf r}_2){\\rm d}^3{\\bf r}_1{\\rm d}^3{\\bf r}_2\n",
    "\\end{align}\n",
    "\n",
    "To simplify the density fitting notation, the inverse Coulomb metric is typically folded into the three-index tensor:\n",
    "\n",
    "\\begin{align}\n",
    "(P|\\lambda\\sigma) &= [J^{\\frac{1}{2}}]_{PQ}\\widetilde{(Q|\\lambda\\sigma)}\\\\\n",
    "g_{\\mu\\nu\\lambda\\sigma} &\\approx (\\mu\\nu|P)(P|\\lambda\\sigma)\n",
    "\\end{align}\n",
    "\n",
    "These transformed three-index tensors can then be used to compute various quantities, including the four-index ERIs, as well as Coulomb (J) and exchange (K) matrices, and therefore the Fock matrix (F).  Before we go any further, let's see how to generate these transformed tensors using <span 'font-variant: small-caps'> Psi4</span>.  \n",
    "\n",
    "First, let's import <span 'font-variant: small-caps'> Psi4</span> and set up some global options, as well as define a molecule:"
   ]
  },
  {
   "cell_type": "code",
   "execution_count": null,
   "metadata": {
    "collapsed": false
   },
   "outputs": [],
   "source": [
    "# ==> Psi4 & NumPy options, Geometry Definition <==\n",
    "import numpy as np\n",
    "import psi4\n",
    "\n",
    "# Set numpy defaults\n",
    "np.set_printoptions(precision=5, linewidth=200, suppress=True)\n",
    "\n",
    "# Set Psi4 memory & output options\n",
    "psi4.core.set_memory(int(2e9), False)\n",
    "psi4.core.set_output_file('output.dat', False)\n",
    "\n",
    "# Geometry specification\n",
    "mol = psi4.geometry(\"\"\"\n",
    "O\n",
    "H 1 0.96\n",
    "H 1 0.96 2 104.5\n",
    "symmetry c1\n",
    "\"\"\")\n",
    "\n",
    "# Psi4 options\n",
    "psi4.set_options({'basis': 'aug-cc-pvdz',\n",
    "                  'e_convergence': 1e-10,\n",
    "                  'd_convergence': 1e-10})"
   ]
  },
  {
   "cell_type": "markdown",
   "metadata": {},
   "source": [
    "To generate our three-index tensors, we'll be using the <span 'font-variant: small-caps'> Psi4 </span> class `psi4.core.DFTensor`.  In order to create an instance of this class, however, we need a few things:\n",
    "1. Initial wavefunction\n",
    "2. Orbital basis set\n",
    "3. Number of occupied and virtual orbitals\n",
    "4. Orbital coefficient matrix (C)\n",
    "\n",
    "From the first few tutorials, we know how to get all of this information!  \n",
    "\n",
    "For now, let's get the initial wavefunction from a SCF/aug-cc-pVDZ computation, so we can compare a converged Fock matrix with a density-fitted version that we will build below.  See if you can't fill in the above for yourself, in the cell below. \n",
    "~~~python\n",
    "# Setup: Get initial wavefunction, orbital information, and C matrix\n",
    "scf_e, wfn = psi4.energy('scf/aug-cc-pvdz', return_wfn=True)\n",
    "\n",
    "nbf = wfn.basisset().nbf()\n",
    "ndocc = wfn.nalpha()\n",
    "nvirt = nbf - ndocc\n",
    "\n",
    "C = wfn.Ca()\n",
    "~~~"
   ]
  },
  {
   "cell_type": "code",
   "execution_count": null,
   "metadata": {
    "collapsed": false
   },
   "outputs": [],
   "source": [
    "# Build wavefunction with psi4.core.Wavefunction\n",
    "scf_e, wfn = \n",
    "\n",
    "# Get orbital occupation information from the wavefunction\n",
    "nbf =                            # Number of basis functions\n",
    "ndocc =                          # Number of doubly occupied orbitals\n",
    "nvirt =                          # Number of virtual orbitals\n",
    "\n",
    "C =                              # Get orbital coefficient matrix from converged SCF wavefunction"
   ]
  },
  {
   "cell_type": "markdown",
   "metadata": {},
   "source": [
    "An aspect of approximate, density fitted ERIs $g_{\\mu\\nu\\lambda\\sigma} \\approx (\\mu\\nu|P)(P|\\lambda\\sigma)$ as opposed to their exact, canonical counterparts $(\\mu\\nu|\\lambda\\sigma)$ is the additional \"auxiliary\" index, $P$.  This index corresponds to inserting a resolution of the identity, which is expanded in an auxiliary basis set $\\{P\\}$.  In order to build our density-fitted integrals, we first need to generate this auxiliary basis set.  Fortunately for us, we can do this with the `psi4.core.BasisSet` object:\n",
    "~~~python\n",
    "# Build auxiliary basis set\n",
    "aux = psi4.core.BasisSet.build(mol, \"DF_BASIS_SCF\", \"\", \"JKFIT\", \"aug-cc-pvdz\")\n",
    "~~~"
   ]
  },
  {
   "cell_type": "code",
   "execution_count": null,
   "metadata": {
    "collapsed": true
   },
   "outputs": [],
   "source": [
    "# Build auxiliary basis set\n",
    "aux = "
   ]
  },
  {
   "cell_type": "markdown",
   "metadata": {},
   "source": [
    "Now, we can use our orbital and auxiliary basis sets, as well as the MO coefficient matrix and orbital occupation information to build our instance of the `DFTensor` object:\n",
    "~~~python\n",
    "# Build instance of DFTensor object\n",
    "df = psi4.core.DFTensor(wfn.basisset(), aux, C, ndocc, nvirt)\n",
    "~~~"
   ]
  },
  {
   "cell_type": "code",
   "execution_count": null,
   "metadata": {
    "collapsed": true
   },
   "outputs": [],
   "source": [
    "# Build instance of DFTensor object\n",
    "df = "
   ]
  },
  {
   "cell_type": "markdown",
   "metadata": {},
   "source": [
    "Finally, the transformed three-index integrals $(Q|\\lambda\\sigma)$ can be built using the `DFTensor` object:\n",
    "~~~python\n",
    "# Get Qpq = (Q|rs)\n",
    "Qpq = np.array(df.Qso())\n",
    "~~~"
   ]
  },
  {
   "cell_type": "code",
   "execution_count": null,
   "metadata": {
    "collapsed": true
   },
   "outputs": [],
   "source": [
    "# Get Qpq = (Q|rs)\n",
    "Qpq = "
   ]
  },
  {
   "cell_type": "markdown",
   "metadata": {},
   "source": [
    "Note that the orbital basis functions taking part in this integral are in the atomic orbital (AO) basis.  `DFTensor` has several three- and four-center tensors it can generate:\n",
    "- `Idfmo()`:  Four-index ERI tensor constructed with density-fitted 3-index quantities, in MO     basis\n",
    "- `Imo()`:  Four-index ERI tensor constructed without density-fitting, in MO basis\n",
    "- `Qmo()`:  Full 3-index DF tensor, in MO basis\n",
    "- `Qoo()`:  Occupied-occupied block of full 3-index `Qmo()` tensor\n",
    "- `Qov()`:  Occupied-virtual block of full 3-index `Qmo()` tensor\n",
    "- `Qvv()`:  Virtual-virtual block of full 3-index `Qmo()` tensor\n",
    "- `Qso()`:  Full 3-index DF tensor, in AO basis (with inverse Coulomb metric folded inside)"
   ]
  },
  {
   "cell_type": "markdown",
   "metadata": {},
   "source": [
    "## Example: Building a Density-Fitted Fock Matrix\n",
    "Now that we've obtained our `Qpq` tensors, we may use them to build the Fock matrix.  There are several different algorithms which we can successfully use to do so; for now, we'll use a simple algorithm and `np.einsum()` to illustrate how to perform contractions with these density fitted tensors and leave a detailed discussion of those algorithms/different tensor contraction methods elsewhere.  The Fock matrix, $F$, is given by\n",
    "\n",
    "$$F = H + 2J - K,$$\n",
    "\n",
    "where $H$ is the one-electron *Hamiltonian matrix*, $J$ is the *Coulomb matrix*, and $K$ is the *exchange matrix*.  The Coulomb and Exchange matrices have elements guven by\n",
    "\n",
    "\\begin{align}\n",
    "J[D_{\\lambda\\sigma}]_{\\mu\\nu} &= (\\mu\\nu|\\lambda\\sigma)D_{\\lambda\\sigma}\\\\\n",
    "K[D_{\\lambda\\sigma}]_{\\mu\\nu} &= (\\mu\\lambda|\\nu\\sigma)D_{\\lambda\\sigma}.\n",
    "\\end{align}\n",
    "\n",
    "When employing conventional 4-index ERI tensors, computing both $J$ and $K$ involves contracting over four unique indices, which involves four distinct loops -- one over each unique index in the contraction.  Therefore, the scaling of this procedure is $\\mathcal{O}(N^4)$, where $N$ is the number of iterations in each loop (one for each basis function).  The above expressions can be coded using `np.einsum()` to handle the tensor contractions:\n",
    "\n",
    "~~~python\n",
    "J = np.einsum('pqrs,rs->pq', I_pqrs, D)\n",
    "K = np.einsum('prqs,rs->pq', I_pqrs, D)\n",
    "~~~\n",
    "\n",
    "for exact ERIs `I_pqrs`.  If we employ density fitting, however, we can reduce this scaling by reducing the number of unique indices involved in the contractions.  Substituting in the density-fitted $(P|\\lambda\\sigma)$ tensors into the above expressions, we obtain the following:\n",
    "\n",
    "\\begin{align}\n",
    "J[D_{\\lambda\\sigma}]_{\\mu\\nu} &= (\\mu\\nu|P)(P|\\lambda\\sigma)D_{\\lambda\\sigma}\\\\\n",
    "K[D_{\\lambda\\sigma}]_{\\mu\\nu} &= (\\mu\\lambda|P)(P|\\nu\\sigma)D_{\\lambda\\sigma}.\n",
    "\\end{align}\n",
    "\n",
    "Naively, this seems like we have actually *increased* the scaling of our algorithm, because we have added the $P$ index to the expression, bringing the total to five unique indices.  We've actually made our lives easier, however: with three different tensors to contract, we can perform one contraction at a time!  \n",
    "\n",
    "For $J$, this works out to the following two-step procedure:\n",
    "\n",
    "\\begin{align}\n",
    "\\chi_P &= (P|\\lambda\\sigma)D_{\\lambda\\sigma} \\\\\n",
    "J[D_{\\lambda\\sigma}]_{\\mu\\nu} &= (\\mu\\nu|P)\\chi_P\n",
    "\\end{align}\n",
    "\n",
    "In the cell below, using `np.einsum()` and our `Qpq` tensor, try to construct `J`:"
   ]
  },
  {
   "cell_type": "code",
   "execution_count": null,
   "metadata": {
    "collapsed": true
   },
   "outputs": [],
   "source": [
    "# Two-step build of J with Qpq and D\n",
    "#Hint: First, get the density matrix $D$ from the converged SCF wavefunction\n",
    "D = \n",
    "X_Q = \n",
    "J = "
   ]
  },
  {
   "cell_type": "markdown",
   "metadata": {},
   "source": [
    "Each of the above contractions, first constructing the `X_Q` intermediate and finally the full Coulomb matrix `J`, only involve three unique indices.  Therefore, the Coulomb matrix build above scales as $\\mathcal{O}(N_{\\rm aux}N^2)$.  Notice that we have distinguished the number of auxiliary ($N_{\\rm aux}$) and orbital ($N$) basis functions; this is because auxiliary basis sets are usually around double the size of their corresponding orbital counterparts.  \n",
    "\n",
    "We can play the same intermediate trick for building the Exchange matrix $K$:\n",
    "\n",
    "\\begin{align}\n",
    "\\zeta_{P\\nu\\lambda} &= (P|\\nu\\sigma)D_{\\lambda\\sigma} \\\\\n",
    "K[D_{\\lambda\\sigma}]_{\\mu\\nu} &= (\\mu\\lambda|P)\\zeta_{P\\nu\\lambda}\n",
    "\\end{align}\n",
    "\n",
    "Just like with $J$, try building $K$ in the cell below:"
   ]
  },
  {
   "cell_type": "code",
   "execution_count": null,
   "metadata": {
    "collapsed": true
   },
   "outputs": [],
   "source": [
    "# Two-step build of K with Qpq and D\n",
    "Z_Qqr = \n",
    "K = "
   ]
  },
  {
   "cell_type": "markdown",
   "metadata": {},
   "source": [
    "Unfortunately, our two-step $K$ build does not incur a reduction in the overall scaling of the algorithm, with each contraction above scaling as $\\mathcal{O}(N^3N_{\\rm aux})$. The major benefit of density fitting for $K$ builds comes in the form of the small storage overhead of the three-index `Qpq` tensors compared to the full four-index `I_pqrs` tensors.  Even when exploiting the full eight-fold symmetry of the $(\\mu\\nu|\\lambda\\sigma)$ integrals, storing `I_pqrs` for a system with 3000 AO basis functions will require 81 TB of space, compared to a mere 216 GB to store the full `Qpq` object when exploiting the twofold symmetry of $(P|\\lambda\\sigma)$.  \n",
    "\n",
    "Now that we've built density-fitted versions of the $J$ and $K$ matrices, let's check our work by comparing a Fock matrix built using our $J$ and $K$ with the fully converged Fock matrix from our original SCF/aug-cc-pVDZ computation.  \n",
    "\n",
    "Below, build F using the one-electron Hamiltonian from the converged SCF wavefuntion and our $J$ and $K$ matrices.  Then, get the converged $F$ from the SCF wavefunction:"
   ]
  },
  {
   "cell_type": "code",
   "execution_count": null,
   "metadata": {
    "collapsed": false
   },
   "outputs": [],
   "source": [
    "# Build F from SCF 1 e- Hamiltonian and our density-fitted J & K\n",
    "F = \n",
    "# Get converged Fock matrix from converged SCF wavefunction\n",
    "scf_F = "
   ]
  },
  {
   "cell_type": "markdown",
   "metadata": {},
   "source": [
    "Feeling lucky? Execute the next cell to see if you've computed $J$, $K$, and $F$ correctly:"
   ]
  },
  {
   "cell_type": "code",
   "execution_count": null,
   "metadata": {
    "collapsed": false
   },
   "outputs": [],
   "source": [
    "if np.allclose(F, scf_F):\n",
    "    print(\"Nicely done!! Your density-fitted Fock matrix matches Psi4!\")\n",
    "else:\n",
    "    print(\"Whoops...something went wrong.  Try again!\")"
   ]
  }
 ],
 "metadata": {
  "kernelspec": {
   "display_name": "Python 2",
   "language": "python",
   "name": "python2"
  },
  "language_info": {
   "codemirror_mode": {
    "name": "ipython",
    "version": 2
   },
   "file_extension": ".py",
   "mimetype": "text/x-python",
   "name": "python",
   "nbconvert_exporter": "python",
   "pygments_lexer": "ipython2",
   "version": "2.7.12"
  }
 },
 "nbformat": 4,
 "nbformat_minor": 0
}
