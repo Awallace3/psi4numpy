{
 "cells": [
  {
   "cell_type": "code",
   "execution_count": 170,
   "metadata": {},
   "outputs": [],
   "source": [
    "import numpy as np\n",
    "import psi4 \n",
    "import ks_helper as ks\n",
    "\n",
    "import matplotlib.pyplot as plt\n",
    "\n",
    "from pkg_resources import parse_version\n",
    "if parse_version(psi4.__version__) >= parse_version('1.3a1'):\n",
    "    build_superfunctional = psi4.driver.dft.build_superfunctional\n",
    "else:\n",
    "    build_superfunctional = psi4.driver.dft_funcs.build_superfunctional"
   ]
  },
  {
   "cell_type": "code",
   "execution_count": 171,
   "metadata": {},
   "outputs": [],
   "source": [
    "hydrogen = psi4.geometry(\"\"\"\n",
    "0 2\n",
    "\n",
    "H\n",
    "\n",
    "symmetry c1\n",
    "\"\"\")\n",
    "\n",
    "psi4.set_options({'DFT_SPHERICAL_POINTS': 50,\n",
    "                  'DFT_RADIAL_POINTS':    75, \n",
    "                  'reference': 'uhf', \n",
    "                  'save_jk' : True})"
   ]
  },
  {
   "cell_type": "code",
   "execution_count": 173,
   "metadata": {},
   "outputs": [
    {
     "ename": "SystemError",
     "evalue": "<built-in method __init__ of PyCapsule object at 0x7fd294044630> returned NULL without setting an error",
     "output_type": "error",
     "traceback": [
      "\u001b[0;31m---------------------------------------------------------------------------\u001b[0m",
      "\u001b[0;31mSystemError\u001b[0m                               Traceback (most recent call last)",
      "\u001b[0;32m<ipython-input-173-b3a503bcea69>\u001b[0m in \u001b[0;36m<module>\u001b[0;34m\u001b[0m\n\u001b[0;32m----> 1\u001b[0;31m \u001b[0mh_energy\u001b[0m\u001b[0;34m,\u001b[0m \u001b[0mh_wfn\u001b[0m \u001b[0;34m=\u001b[0m \u001b[0mpsi4\u001b[0m\u001b[0;34m.\u001b[0m\u001b[0menergy\u001b[0m\u001b[0;34m(\u001b[0m\u001b[0;34m'HF/sto-3g'\u001b[0m\u001b[0;34m,\u001b[0m\u001b[0mreturn_wfn\u001b[0m\u001b[0;34m=\u001b[0m\u001b[0;32mTrue\u001b[0m\u001b[0;34m)\u001b[0m\u001b[0;34m\u001b[0m\u001b[0;34m\u001b[0m\u001b[0m\n\u001b[0m\u001b[1;32m      2\u001b[0m \u001b[0;34m\u001b[0m\u001b[0m\n\u001b[1;32m      3\u001b[0m \u001b[0mVpot\u001b[0m \u001b[0;34m=\u001b[0m \u001b[0mh_wfn\u001b[0m\u001b[0;34m.\u001b[0m\u001b[0mV_potential\u001b[0m\u001b[0;34m(\u001b[0m\u001b[0;34m)\u001b[0m\u001b[0;34m\u001b[0m\u001b[0;34m\u001b[0m\u001b[0m\n",
      "\u001b[0;32m~/anaconda3/envs/p4env/lib/python3.7/site-packages/psi4/driver/driver.py\u001b[0m in \u001b[0;36menergy\u001b[0;34m(name, **kwargs)\u001b[0m\n\u001b[1;32m    506\u001b[0m     \u001b[0;31m# Bounce to CBS if \"method/basis\" name\u001b[0m\u001b[0;34m\u001b[0m\u001b[0;34m\u001b[0m\u001b[0;34m\u001b[0m\u001b[0m\n\u001b[1;32m    507\u001b[0m     \u001b[0;32mif\u001b[0m \u001b[0;34m\"/\"\u001b[0m \u001b[0;32min\u001b[0m \u001b[0mlowername\u001b[0m\u001b[0;34m:\u001b[0m\u001b[0;34m\u001b[0m\u001b[0;34m\u001b[0m\u001b[0m\n\u001b[0;32m--> 508\u001b[0;31m         \u001b[0;32mreturn\u001b[0m \u001b[0mdriver_cbs\u001b[0m\u001b[0;34m.\u001b[0m\u001b[0m_cbs_gufunc\u001b[0m\u001b[0;34m(\u001b[0m\u001b[0menergy\u001b[0m\u001b[0;34m,\u001b[0m \u001b[0mname\u001b[0m\u001b[0;34m,\u001b[0m \u001b[0mptype\u001b[0m\u001b[0;34m=\u001b[0m\u001b[0;34m'energy'\u001b[0m\u001b[0;34m,\u001b[0m \u001b[0;34m**\u001b[0m\u001b[0mkwargs\u001b[0m\u001b[0;34m)\u001b[0m\u001b[0;34m\u001b[0m\u001b[0;34m\u001b[0m\u001b[0m\n\u001b[0m\u001b[1;32m    509\u001b[0m \u001b[0;34m\u001b[0m\u001b[0m\n\u001b[1;32m    510\u001b[0m     \u001b[0;31m# Commit to procedures['energy'] call hereafter\u001b[0m\u001b[0;34m\u001b[0m\u001b[0;34m\u001b[0m\u001b[0;34m\u001b[0m\u001b[0m\n",
      "\u001b[0;32m~/anaconda3/envs/p4env/lib/python3.7/site-packages/psi4/driver/driver_cbs.py\u001b[0m in \u001b[0;36m_cbs_gufunc\u001b[0;34m(func, total_method_name, **kwargs)\u001b[0m\n\u001b[1;32m   1947\u001b[0m         \u001b[0moptstash\u001b[0m \u001b[0;34m=\u001b[0m \u001b[0mp4util\u001b[0m\u001b[0;34m.\u001b[0m\u001b[0mOptionsState\u001b[0m\u001b[0;34m(\u001b[0m\u001b[0;34m[\u001b[0m\u001b[0;34m'BASIS'\u001b[0m\u001b[0;34m]\u001b[0m\u001b[0;34m)\u001b[0m\u001b[0;34m\u001b[0m\u001b[0;34m\u001b[0m\u001b[0m\n\u001b[1;32m   1948\u001b[0m         \u001b[0mcore\u001b[0m\u001b[0;34m.\u001b[0m\u001b[0mset_global_option\u001b[0m\u001b[0;34m(\u001b[0m\u001b[0;34m'BASIS'\u001b[0m\u001b[0;34m,\u001b[0m \u001b[0mbasis\u001b[0m\u001b[0;34m)\u001b[0m\u001b[0;34m\u001b[0m\u001b[0;34m\u001b[0m\u001b[0m\n\u001b[0;32m-> 1949\u001b[0;31m         \u001b[0mptype_value\u001b[0m\u001b[0;34m,\u001b[0m \u001b[0mwfn\u001b[0m \u001b[0;34m=\u001b[0m \u001b[0mfunc\u001b[0m\u001b[0;34m(\u001b[0m\u001b[0mmethod_name\u001b[0m\u001b[0;34m,\u001b[0m \u001b[0mreturn_wfn\u001b[0m\u001b[0;34m=\u001b[0m\u001b[0;32mTrue\u001b[0m\u001b[0;34m,\u001b[0m \u001b[0mmolecule\u001b[0m\u001b[0;34m=\u001b[0m\u001b[0mmolecule\u001b[0m\u001b[0;34m,\u001b[0m \u001b[0;34m**\u001b[0m\u001b[0mkwargs\u001b[0m\u001b[0;34m)\u001b[0m\u001b[0;34m\u001b[0m\u001b[0;34m\u001b[0m\u001b[0m\n\u001b[0m\u001b[1;32m   1950\u001b[0m         \u001b[0mcore\u001b[0m\u001b[0;34m.\u001b[0m\u001b[0mclean\u001b[0m\u001b[0;34m(\u001b[0m\u001b[0;34m)\u001b[0m\u001b[0;34m\u001b[0m\u001b[0;34m\u001b[0m\u001b[0m\n\u001b[1;32m   1951\u001b[0m \u001b[0;34m\u001b[0m\u001b[0m\n",
      "\u001b[0;32m~/anaconda3/envs/p4env/lib/python3.7/site-packages/psi4/driver/driver.py\u001b[0m in \u001b[0;36menergy\u001b[0;34m(name, **kwargs)\u001b[0m\n\u001b[1;32m    554\u001b[0m             \u001b[0mshutil\u001b[0m\u001b[0;34m.\u001b[0m\u001b[0mcopy\u001b[0m\u001b[0;34m(\u001b[0m\u001b[0mitem\u001b[0m\u001b[0;34m,\u001b[0m \u001b[0mtargetfile\u001b[0m\u001b[0;34m)\u001b[0m\u001b[0;34m\u001b[0m\u001b[0;34m\u001b[0m\u001b[0m\n\u001b[1;32m    555\u001b[0m \u001b[0;34m\u001b[0m\u001b[0m\n\u001b[0;32m--> 556\u001b[0;31m     \u001b[0mwfn\u001b[0m \u001b[0;34m=\u001b[0m \u001b[0mprocedures\u001b[0m\u001b[0;34m[\u001b[0m\u001b[0;34m'energy'\u001b[0m\u001b[0;34m]\u001b[0m\u001b[0;34m[\u001b[0m\u001b[0mlowername\u001b[0m\u001b[0;34m]\u001b[0m\u001b[0;34m(\u001b[0m\u001b[0mlowername\u001b[0m\u001b[0;34m,\u001b[0m \u001b[0mmolecule\u001b[0m\u001b[0;34m=\u001b[0m\u001b[0mmolecule\u001b[0m\u001b[0;34m,\u001b[0m \u001b[0;34m**\u001b[0m\u001b[0mkwargs\u001b[0m\u001b[0;34m)\u001b[0m\u001b[0;34m\u001b[0m\u001b[0;34m\u001b[0m\u001b[0m\n\u001b[0m\u001b[1;32m    557\u001b[0m \u001b[0;34m\u001b[0m\u001b[0m\n\u001b[1;32m    558\u001b[0m     \u001b[0;32mfor\u001b[0m \u001b[0mpostcallback\u001b[0m \u001b[0;32min\u001b[0m \u001b[0mhooks\u001b[0m\u001b[0;34m[\u001b[0m\u001b[0;34m'energy'\u001b[0m\u001b[0;34m]\u001b[0m\u001b[0;34m[\u001b[0m\u001b[0;34m'post'\u001b[0m\u001b[0;34m]\u001b[0m\u001b[0;34m:\u001b[0m\u001b[0;34m\u001b[0m\u001b[0;34m\u001b[0m\u001b[0m\n",
      "\u001b[0;32m~/anaconda3/envs/p4env/lib/python3.7/site-packages/psi4/driver/procrouting/proc.py\u001b[0m in \u001b[0;36mrun_scf\u001b[0;34m(name, **kwargs)\u001b[0m\n\u001b[1;32m   2000\u001b[0m \u001b[0;34m\u001b[0m\u001b[0m\n\u001b[1;32m   2001\u001b[0m \u001b[0;34m\u001b[0m\u001b[0m\n\u001b[0;32m-> 2002\u001b[0;31m     \u001b[0mscf_wfn\u001b[0m \u001b[0;34m=\u001b[0m \u001b[0mscf_helper\u001b[0m\u001b[0;34m(\u001b[0m\u001b[0mname\u001b[0m\u001b[0;34m,\u001b[0m \u001b[0mpost_scf\u001b[0m\u001b[0;34m=\u001b[0m\u001b[0;32mFalse\u001b[0m\u001b[0;34m,\u001b[0m \u001b[0;34m**\u001b[0m\u001b[0mkwargs\u001b[0m\u001b[0;34m)\u001b[0m\u001b[0;34m\u001b[0m\u001b[0;34m\u001b[0m\u001b[0m\n\u001b[0m\u001b[1;32m   2003\u001b[0m     \u001b[0mreturnvalue\u001b[0m \u001b[0;34m=\u001b[0m \u001b[0mcore\u001b[0m\u001b[0;34m.\u001b[0m\u001b[0mvariable\u001b[0m\u001b[0;34m(\u001b[0m\u001b[0;34m'CURRENT ENERGY'\u001b[0m\u001b[0;34m)\u001b[0m\u001b[0;34m\u001b[0m\u001b[0;34m\u001b[0m\u001b[0m\n\u001b[1;32m   2004\u001b[0m \u001b[0;34m\u001b[0m\u001b[0m\n",
      "\u001b[0;32m~/anaconda3/envs/p4env/lib/python3.7/site-packages/psi4/driver/procrouting/proc.py\u001b[0m in \u001b[0;36mscf_helper\u001b[0;34m(name, post_scf, **kwargs)\u001b[0m\n\u001b[1;32m   1279\u001b[0m         \u001b[0mcore\u001b[0m\u001b[0;34m.\u001b[0m\u001b[0mprint_out\u001b[0m\u001b[0;34m(\u001b[0m\u001b[0;34m\"         \"\u001b[0m \u001b[0;34m+\u001b[0m \u001b[0mbanner\u001b[0m\u001b[0;34m.\u001b[0m\u001b[0mcenter\u001b[0m\u001b[0;34m(\u001b[0m\u001b[0;36m58\u001b[0m\u001b[0;34m)\u001b[0m\u001b[0;34m)\u001b[0m\u001b[0;34m;\u001b[0m\u001b[0;34m\u001b[0m\u001b[0;34m\u001b[0m\u001b[0m\n\u001b[1;32m   1280\u001b[0m \u001b[0;34m\u001b[0m\u001b[0m\n\u001b[0;32m-> 1281\u001b[0;31m     \u001b[0mscf_wfn\u001b[0m \u001b[0;34m=\u001b[0m \u001b[0mscf_wavefunction_factory\u001b[0m\u001b[0;34m(\u001b[0m\u001b[0mname\u001b[0m\u001b[0;34m,\u001b[0m \u001b[0mbase_wfn\u001b[0m\u001b[0;34m,\u001b[0m \u001b[0mcore\u001b[0m\u001b[0;34m.\u001b[0m\u001b[0mget_option\u001b[0m\u001b[0;34m(\u001b[0m\u001b[0;34m'SCF'\u001b[0m\u001b[0;34m,\u001b[0m \u001b[0;34m'REFERENCE'\u001b[0m\u001b[0;34m)\u001b[0m\u001b[0;34m,\u001b[0m \u001b[0;34m**\u001b[0m\u001b[0mkwargs\u001b[0m\u001b[0;34m)\u001b[0m\u001b[0;34m\u001b[0m\u001b[0;34m\u001b[0m\u001b[0m\n\u001b[0m\u001b[1;32m   1282\u001b[0m     \u001b[0mcore\u001b[0m\u001b[0;34m.\u001b[0m\u001b[0mset_legacy_wavefunction\u001b[0m\u001b[0;34m(\u001b[0m\u001b[0mscf_wfn\u001b[0m\u001b[0;34m)\u001b[0m\u001b[0;34m\u001b[0m\u001b[0;34m\u001b[0m\u001b[0m\n\u001b[1;32m   1283\u001b[0m \u001b[0;34m\u001b[0m\u001b[0m\n",
      "\u001b[0;32m~/anaconda3/envs/p4env/lib/python3.7/site-packages/psi4/driver/procrouting/proc.py\u001b[0m in \u001b[0;36mscf_wavefunction_factory\u001b[0;34m(name, ref_wfn, reference, **kwargs)\u001b[0m\n\u001b[1;32m   1003\u001b[0m     \u001b[0mcore\u001b[0m\u001b[0;34m.\u001b[0m\u001b[0mprepare_options_for_module\u001b[0m\u001b[0;34m(\u001b[0m\u001b[0;34m\"SCF\"\u001b[0m\u001b[0;34m)\u001b[0m\u001b[0;34m\u001b[0m\u001b[0;34m\u001b[0m\u001b[0m\n\u001b[1;32m   1004\u001b[0m     \u001b[0;32mif\u001b[0m \u001b[0mreference\u001b[0m \u001b[0;32min\u001b[0m \u001b[0;34m[\u001b[0m\u001b[0;34m\"RHF\"\u001b[0m\u001b[0;34m,\u001b[0m \u001b[0;34m\"RKS\"\u001b[0m\u001b[0;34m]\u001b[0m\u001b[0;34m:\u001b[0m\u001b[0;34m\u001b[0m\u001b[0;34m\u001b[0m\u001b[0m\n\u001b[0;32m-> 1005\u001b[0;31m         \u001b[0mwfn\u001b[0m \u001b[0;34m=\u001b[0m \u001b[0mcore\u001b[0m\u001b[0;34m.\u001b[0m\u001b[0mRHF\u001b[0m\u001b[0;34m(\u001b[0m\u001b[0mref_wfn\u001b[0m\u001b[0;34m,\u001b[0m \u001b[0msuperfunc\u001b[0m\u001b[0;34m)\u001b[0m\u001b[0;34m\u001b[0m\u001b[0;34m\u001b[0m\u001b[0m\n\u001b[0m\u001b[1;32m   1006\u001b[0m     \u001b[0;32melif\u001b[0m \u001b[0mreference\u001b[0m \u001b[0;34m==\u001b[0m \u001b[0;34m\"ROHF\"\u001b[0m\u001b[0;34m:\u001b[0m\u001b[0;34m\u001b[0m\u001b[0;34m\u001b[0m\u001b[0m\n\u001b[1;32m   1007\u001b[0m         \u001b[0mwfn\u001b[0m \u001b[0;34m=\u001b[0m \u001b[0mcore\u001b[0m\u001b[0;34m.\u001b[0m\u001b[0mROHF\u001b[0m\u001b[0;34m(\u001b[0m\u001b[0mref_wfn\u001b[0m\u001b[0;34m,\u001b[0m \u001b[0msuperfunc\u001b[0m\u001b[0;34m)\u001b[0m\u001b[0;34m\u001b[0m\u001b[0;34m\u001b[0m\u001b[0m\n",
      "\u001b[0;31mSystemError\u001b[0m: <built-in method __init__ of PyCapsule object at 0x7fd294044630> returned NULL without setting an error"
     ]
    }
   ],
   "source": [
    "h_energy, h_wfn = psi4.energy('HF/sto-3g',return_wfn=True)\n",
    "\n",
    "Vpot = h_wfn.V_potential()"
   ]
  },
  {
   "cell_type": "code",
   "execution_count": 162,
   "metadata": {},
   "outputs": [],
   "source": [
    "def one_electron_radial(matrices, Vpot):\n",
    "    \"\"\"\n",
    "    For every matrix in matrices, computes the radial density using the incoming Vpot object.\n",
    "    \"\"\"\n",
    "    \n",
    "    results = [[] for x in matrices]\n",
    "    Rlist = []\n",
    "    \n",
    "    points_func = Vpot.properties()[0]\n",
    "    superfunc = Vpot.functional()\n",
    "\n",
    "    xc_e = 0.0\n",
    "    vv10_e = 0.0\n",
    "    \n",
    "    # First loop over the outer set of blocks\n",
    "    for block in range(Vpot.nblocks()):\n",
    "        \n",
    "        # Obtain general grid information\n",
    "        grid = Vpot.get_block(block)\n",
    "        x = np.array(grid.x())\n",
    "        y = np.array(grid.y())\n",
    "        z = np.array(grid.z())\n",
    "        npoints = z.shape[0]\n",
    "\n",
    "        # Get radial information\n",
    "        R = ((x ** 2) + (y ** 2) + (z ** 2)) ** 0.5\n",
    "        Rlist.append(R)\n",
    "        \n",
    "        # Loop over and compute the density for each matrix\n",
    "        for num, mat in enumerate(matrices):\n",
    "            points_func.set_pointers(mat)\n",
    "            points_func.compute_points(grid)\n",
    "            results[num].append(np.array(points_func.point_values()[\"RHO_A\"])[:npoints])\n",
    "       \n",
    "    # Stack R\n",
    "    Rlist = np.hstack(Rlist)\n",
    "    \n",
    "    # Get the R unique and sort\n",
    "    unique, uidx = np.unique(Rlist, return_index=True)\n",
    "    Rlist = Rlist[uidx]\n",
    "    \n",
    "    # Numpy is magic, it would be worthwhile to consider excatly what this does\n",
    "    results = [np.hstack(x)[uidx] for x in results]\n",
    "\n",
    "    return (Rlist, results)\n",
    "\n",
    "# Compute the radial densities\n",
    "density_functional = build_superfunctional(\"SVWN\", True)[0]\n",
    "Vpot = psi4.core.VBase.build(h_wfn.basisset(), density_functional, \"RV\")\n",
    "# build(arg0: psi4.core.BasisSet, arg1: psi4.core.SuperFunctional, arg2: str) → psi4.core.VBase¶\n",
    "Vpot.initialize()\n",
    "\n",
    "R, hartree = one_electron_radial([h_wfn.jk().J()[0]], Vpot)\n",
    "R, kin_ext = one_electron_radial([h_wfn.H()],Vpot)\n",
    "R, fock_a = one_electron_radial([h_wfn.Fa()],Vpot)\n",
    "R, fock_b = one_electron_radial([h_wfn.Fb()],Vpot)"
   ]
  },
  {
   "cell_type": "code",
   "execution_count": 128,
   "metadata": {},
   "outputs": [
    {
     "data": {
      "text/plain": [
       "1"
      ]
     },
     "execution_count": 128,
     "metadata": {},
     "output_type": "execute_result"
    }
   ],
   "source": [
    "len(hartree)"
   ]
  },
  {
   "cell_type": "code",
   "execution_count": 129,
   "metadata": {},
   "outputs": [
    {
     "data": {
      "text/plain": [
       "method"
      ]
     },
     "execution_count": 129,
     "metadata": {},
     "output_type": "execute_result"
    }
   ],
   "source": [
    "exteral_potential=Vpot.compute_V\n",
    "type(exteral_potential)"
   ]
  },
  {
   "cell_type": "code",
   "execution_count": 130,
   "metadata": {},
   "outputs": [],
   "source": [
    "def plot_scatter_ratio(dictionary, bench, x_values):\n",
    "    fig1 = plt.figure()\n",
    "    ax1 = fig1.add_subplot(111)\n",
    "    \n",
    "    for k, v in dictionary.items():\n",
    "        ax1.plot(x_values, v / bench, label=k)\n",
    "        \n",
    "    ax1.legend(loc='upper left')\n",
    "    ax1.set_xlim(0, 7)\n",
    "    ax1.set_xlabel('R')\n",
    "    ax1.set_ylabel('rho(r) / rho(r)_bench')\n",
    "    \n",
    "    plt.plot([0, 7], [1.0, 1.0], 'k-')"
   ]
  },
  {
   "cell_type": "code",
   "execution_count": 160,
   "metadata": {},
   "outputs": [
    {
     "name": "stderr",
     "output_type": "stream",
     "text": [
      "/home/vh/anaconda3/envs/p4env/lib/python3.7/site-packages/ipykernel_launcher.py:7: RuntimeWarning: divide by zero encountered in true_divide\n",
      "  import sys\n"
     ]
    },
    {
     "data": {
      "text/plain": [
       "<matplotlib.legend.Legend at 0x7fd2411de4e0>"
      ]
     },
     "execution_count": 160,
     "metadata": {},
     "output_type": "execute_result"
    },
    {
     "data": {
      "image/png": "[encoded data removed]",
      "text/plain": [
       "<Figure size 432x288 with 1 Axes>"
      ]
     },
     "metadata": {
      "needs_background": "light"
     },
     "output_type": "display_data"
    }
   ],
   "source": [
    "data_dict = {\"SCF\": data[0]}\n",
    "plt.plot(R, hartree[0], label='hartree')\n",
    "#plt.plot(R, kin_ext[0], label='kinetic+external')\n",
    "#plt.plot(R, fock_a[0], label='focks')\n",
    "\n",
    "equis = np.linspace(0,12,100)\n",
    "ye = -1/equis\n",
    "#\n",
    "xc = (fock_a[0] + fock_b[0]) -(2 * hartree[0] + kin_ext[0] )\n",
    "\n",
    "plt.plot(R, xc, label='exchange correlation')\n",
    "\n",
    "plt.plot(R, hartree[0] + xc)\n",
    "\n",
    "plt.legend()"
   ]
  },
  {
   "cell_type": "code",
   "execution_count": 138,
   "metadata": {},
   "outputs": [
    {
     "data": {
      "text/plain": [
       "array([False, False, False, False, False, False, False, False, False,\n",
       "       False, False, False, False, False, False, False, False, False,\n",
       "       False, False, False, False, False, False, False, False, False,\n",
       "       False, False, False, False, False, False, False, False, False,\n",
       "       False, False, False, False, False, False, False, False, False,\n",
       "       False, False, False, False, False, False, False, False, False,\n",
       "       False, False, False, False, False, False, False, False, False,\n",
       "       False, False, False, False, False, False, False, False, False,\n",
       "       False, False, False, False, False, False, False, False, False,\n",
       "       False, False, False, False, False, False, False, False, False,\n",
       "       False, False, False, False, False, False, False, False, False,\n",
       "       False, False, False, False, False, False, False, False, False,\n",
       "       False, False, False, False, False, False, False, False, False,\n",
       "       False, False, False, False, False, False, False, False, False,\n",
       "       False, False, False, False, False, False, False, False, False,\n",
       "       False, False, False])"
      ]
     },
     "execution_count": 138,
     "metadata": {},
     "output_type": "execute_result"
    }
   ],
   "source": [
    "fock_b[0] == fock_a[0]"
   ]
  },
  {
   "cell_type": "code",
   "execution_count": 86,
   "metadata": {},
   "outputs": [
    {
     "data": {
      "text/plain": [
       "<psi4.core.Matrix at 0x7fd24264d468>"
      ]
     },
     "execution_count": 86,
     "metadata": {},
     "output_type": "execute_result"
    }
   ],
   "source": [
    "h_wfn.Da()"
   ]
  },
  {
   "cell_type": "code",
   "execution_count": 97,
   "metadata": {},
   "outputs": [
    {
     "data": {
      "text/plain": [
       "<psi4.core.Matrix at 0x7fd2425479e8>"
      ]
     },
     "execution_count": 97,
     "metadata": {},
     "output_type": "execute_result"
    }
   ],
   "source": [
    "h_wfn.jk().J()[0]"
   ]
  },
  {
   "cell_type": "code",
   "execution_count": 147,
   "metadata": {},
   "outputs": [
    {
     "data": {
      "text/plain": [
       "['C_add',\n",
       " 'C_clear',\n",
       " 'C_left_add',\n",
       " 'C_right_add',\n",
       " 'D',\n",
       " 'J',\n",
       " 'K',\n",
       " '__class__',\n",
       " '__delattr__',\n",
       " '__dir__',\n",
       " '__doc__',\n",
       " '__eq__',\n",
       " '__format__',\n",
       " '__ge__',\n",
       " '__getattribute__',\n",
       " '__gt__',\n",
       " '__hash__',\n",
       " '__init__',\n",
       " '__init_subclass__',\n",
       " '__le__',\n",
       " '__lt__',\n",
       " '__module__',\n",
       " '__ne__',\n",
       " '__new__',\n",
       " '__reduce__',\n",
       " '__reduce_ex__',\n",
       " '__repr__',\n",
       " '__setattr__',\n",
       " '__sizeof__',\n",
       " '__str__',\n",
       " '__subclasshook__',\n",
       " 'basisset',\n",
       " 'build',\n",
       " 'build_JK',\n",
       " 'compute',\n",
       " 'finalize',\n",
       " 'initialize',\n",
       " 'memory_estimate',\n",
       " 'name',\n",
       " 'print_header',\n",
       " 'set_cutoff',\n",
       " 'set_do_J',\n",
       " 'set_do_K',\n",
       " 'set_do_wK',\n",
       " 'set_memory',\n",
       " 'set_omega',\n",
       " 'set_omp_nthread',\n",
       " 'set_print',\n",
       " 'wK']"
      ]
     },
     "execution_count": 147,
     "metadata": {},
     "output_type": "execute_result"
    }
   ],
   "source": [
    "dir(h_wfn.jk())"
   ]
  },
  {
   "cell_type": "code",
   "execution_count": 145,
   "metadata": {},
   "outputs": [
    {
     "data": {
      "text/plain": [
       "(1, 1)"
      ]
     },
     "execution_count": 145,
     "metadata": {},
     "output_type": "execute_result"
    }
   ],
   "source": [
    "h_wfn.H().shape"
   ]
  },
  {
   "cell_type": "code",
   "execution_count": 142,
   "metadata": {},
   "outputs": [
    {
     "data": {
      "text/plain": [
       "['__array_interface__',\n",
       " '__class__',\n",
       " '__delattr__',\n",
       " '__dict__',\n",
       " '__dir__',\n",
       " '__doc__',\n",
       " '__eq__',\n",
       " '__format__',\n",
       " '__ge__',\n",
       " '__getattribute__',\n",
       " '__getitem__',\n",
       " '__gt__',\n",
       " '__hash__',\n",
       " '__init__',\n",
       " '__init_subclass__',\n",
       " '__iter__',\n",
       " '__le__',\n",
       " '__lt__',\n",
       " '__module__',\n",
       " '__ne__',\n",
       " '__new__',\n",
       " '__reduce__',\n",
       " '__reduce_ex__',\n",
       " '__repr__',\n",
       " '__setattr__',\n",
       " '__sizeof__',\n",
       " '__str__',\n",
       " '__subclasshook__',\n",
       " 'absmax',\n",
       " 'accumulate_product',\n",
       " 'add',\n",
       " 'add_and_orthogonalize_row',\n",
       " 'apply_denominator',\n",
       " 'array_interface',\n",
       " 'axpy',\n",
       " 'back_transform',\n",
       " 'chain_dot',\n",
       " 'cholesky_factorize',\n",
       " 'clone',\n",
       " 'coldim',\n",
       " 'cols',\n",
       " 'copy',\n",
       " 'copy_lower_to_upper',\n",
       " 'copy_upper_to_lower',\n",
       " 'diagonalize',\n",
       " 'doublet',\n",
       " 'from_array',\n",
       " 'from_list',\n",
       " 'from_serial',\n",
       " 'gemm',\n",
       " 'general_invert',\n",
       " 'get',\n",
       " 'get_block',\n",
       " 'hermitivitize',\n",
       " 'hermitize',\n",
       " 'identity',\n",
       " 'invert',\n",
       " 'load',\n",
       " 'load_mpqc',\n",
       " 'name',\n",
       " 'nirrep',\n",
       " 'np',\n",
       " 'np_read',\n",
       " 'np_write',\n",
       " 'nph',\n",
       " 'partial_cholesky_factorize',\n",
       " 'power',\n",
       " 'print_atom_vector',\n",
       " 'print_out',\n",
       " 'pseudoinverse',\n",
       " 'remove_symmetry',\n",
       " 'rms',\n",
       " 'rotate_columns',\n",
       " 'rowdim',\n",
       " 'rows',\n",
       " 'save',\n",
       " 'scale',\n",
       " 'scale_column',\n",
       " 'scale_row',\n",
       " 'schmidt',\n",
       " 'set',\n",
       " 'set_block',\n",
       " 'shape',\n",
       " 'subtract',\n",
       " 'sum_of_squares',\n",
       " 'symmetrize_gradient',\n",
       " 'symmetry',\n",
       " 'to_array',\n",
       " 'to_serial',\n",
       " 'trace',\n",
       " 'transform',\n",
       " 'transpose',\n",
       " 'transpose_this',\n",
       " 'triplet',\n",
       " 'vector_dot',\n",
       " 'zero',\n",
       " 'zero_diagonal',\n",
       " 'zero_lower',\n",
       " 'zero_upper']"
      ]
     },
     "execution_count": 142,
     "metadata": {},
     "output_type": "execute_result"
    }
   ],
   "source": [
    "dir(h_wfn.H())"
   ]
  },
  {
   "cell_type": "code",
   "execution_count": null,
   "metadata": {},
   "outputs": [],
   "source": [
    "#Things that have the same structure as wfn.Da()\n",
    "\n",
    "#wfn.Fa() full fock matrix\n",
    "#wfn.H()  tiny h matrix -> kinetic + external potential"
   ]
  }
 ],
 "metadata": {
  "kernelspec": {
   "display_name": "Python 3",
   "language": "python",
   "name": "python3"
  },
  "language_info": {
   "codemirror_mode": {
    "name": "ipython",
    "version": 3
   },
   "file_extension": ".py",
   "mimetype": "text/x-python",
   "name": "python",
   "nbconvert_exporter": "python",
   "pygments_lexer": "ipython3",
   "version": "3.7.3"
  }
 },
 "nbformat": 4,
 "nbformat_minor": 2
}
