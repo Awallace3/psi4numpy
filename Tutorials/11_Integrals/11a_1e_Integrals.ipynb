{
 "cells": [
  {
   "cell_type": "code",
   "execution_count": 1,
   "metadata": {
    "collapsed": true
   },
   "outputs": [],
   "source": [
    "\"\"\"Tutorial: Overlap, Kinetic, and Dipole Integrals\"\"\"\n",
    "\n",
    "__author__    = [\"Justin M. Turney\"]\n",
    "__credit__    = [\"Justin M. Turney\"]\n",
    "\n",
    "__copyright__ = \"(c) 2014-2017, The Psi4NumPy Developers\"\n",
    "__license__   = \"BSD-3-Clause\"\n",
    "__date__      = \"2017-08-10\""
   ]
  },
  {
   "cell_type": "markdown",
   "metadata": {},
   "source": [
    "# Overlap, Kinetic, and Dipole Integrals\n",
    "\n",
    "In this tutorial we will compute the overlap and kinetic energy integrals encountered in Hartree-Fock. We will also compute the dipole integrals to obtain the molecular dipole moment. \n",
    "\n",
    "## Recurrence formula for one-electron integrals over Gaussian functions\n",
    "Direct calculation of all integrals is not only complicated, but expensive. Here, we will implement an Obara-Saika recursion scheme for a simpler and more efficient implementation.\n",
    "\n",
    "### Cartesian Gaussian functions\n",
    "Denote the origin of a 3-dimensional cartesian gaussian function by the coordinates $\\mathbf{R} = (R_x, R_y, R_z)$.\n",
    "Let $\\mathbf{r} = (x, y, z)$ be the coordinates of the electron, and $\\alpha$ be the orbital exponent. We can now define an *unnormalized* cartesian gaussian function as:\n",
    "\n",
    "\\begin{equation}\n",
    "\\phi(\\mathbf r; \\alpha, \\mathbf n, \\mathbf R) = (x - R_x)^{n_x} (y - R_y)^{n_y} (z - R_z)^{n_z} \\exp[-\\alpha (\\mathbf r - \\mathbf R)^2]\n",
    "\\end{equation}\n",
    "\n",
    "where $\\alpha$ is the orbital exponent, and $\\mathbf{n} = (n_x, n_y, n_z)$ is the angular momentum index vector. The sum $n_x + n_y + n_z = \\lambda$ will hereafter be referred to as the **angular momentum**. We define a **shell** to be a set of functions (*components*) which share the same origin $\\mathbf{R}$, angular momentum $\\lambda$, and orbital exponent $\\alpha$. \n",
    "\n",
    "The shells with $\\lambda$  equal to $0, 1, 2,...,$ are referred to as the $s, p, d, ...$ shell. Each shell has $(\\lambda + 1) (\\lambda + 2)/2$ components. The $s$ shell, with angular momentum $\\lambda = 0$ has one component usually designated as $s$. The $p$ shell ($\\lambda = 1$) has three components, designated as $p_x, p_y, p_z$. The $d$ shell ($\\lambda = 2$) has six components, designated as $d_{xx}, d_{yy}, d_{zz}, d_{xy}, d_{xz}, d_{yz}$.\n",
    "\n",
    "Using our angular momentum index vector $\\mathbf{n}$ we denote the single component of the $s$ shell to have angular momentum index $\\mathbf{n} = \\mathbf{0} = (0, 0, 0)$. Since the $p$ shell has three components, we may compactly express the angular momentum index vector as $\\mathbf{1}_i$ where $i$ may be $x$, $y$, or $z$, and $\\mathbf{1}_i = (\\delta_{ix}, \\delta_{iy}, \\delta_{iz})$. For example, $p_x$ may be represented as $\\mathbf{1}_x = (1, 0, 0)$. For the six components of the $d$ shell, we require a sum of two angular momentum index vectors $\\mathbf{1}_i + \\mathbf{1}_j$, where $(i,j = x,y,z)$. In this notation, the $d_{xy}$ component is $\\mathbf{1}_x + \\mathbf{1}_y = (1,0,0) + (0,1,0) = (1,1,0)$. To obtain higher order angular momentum components, we add the appropriate number of $\\mathbf{1}_i$'s ($\\mathbf{n}$'s)\n",
    "\n",
    "\n",
    "In later discussions all the components  in a shell are assumed to be exhausted as the basic functions, and to be treated together in the computation of molecular integrals.\n",
    "\n",
    "\n",
    "### Two-center overlap integrals\n",
    "Two-center overlap integrals over unnormalized Cartesian Gaussian functions are of the form:\n",
    "\\begin{equation}\n",
    "(\\mathbf a|\\mathbf b) = \\int d\\mathbf r\\ \\phi(\\mathbf r; \\alpha_a, \\mathbf a, \\mathbf A)\\phi(\\mathbf r; \\alpha_b, \\mathbf b, \\mathbf B)\n",
    "\\end{equation}\n",
    "\n",
    "given $(\\mathbf 0_A | \\mathbf 0_B)$, we can use the Obara-Saika recursion relation to obtain overlap integrals between all basis functions. The overlap over $s$ functions is given by:\n",
    "\n",
    "\\begin{equation}\n",
    "(\\mathbf 0_A | \\mathbf 0_B) = \\left(\\frac{\\pi}{\\alpha}\\right)^{3/2} \\exp[-\\xi(\\mathbf A-\\mathbf B)^2]\n",
    "\\end{equation}\n",
    "\n",
    "where $\\alpha = \\alpha_a + \\alpha_b$ and $\\zeta = \\frac{\\alpha_a\\alpha_b}{\\alpha}$.\n",
    "The recursion relations are given below. For a full derivation, see the appendix, or the original paper by Obara and Saika paper. To increment the left side angular momentum:\n",
    "\n",
    "\\begin{equation}\n",
    "(\\mathbf a+\\mathbf 1_i|\\mathbf b) = (\\mathbf{P - A})(\\mathbf a|\\mathbf b) + \\frac{1}{2\\alpha} N_i(\\mathbf a)(\\mathbf a-\\mathbf 1_i|\\mathbf b) + \\frac{1}{2\\alpha} N_i(\\mathbf b)(\\mathbf a|\\mathbf b-\\mathbf 1_i)\n",
    "\\end{equation}\n",
    "and similarily, to increment the right side:\n",
    "\\begin{equation}\n",
    "(\\mathbf a|\\mathbf b+\\mathbf 1_i) = (\\mathbf{P - B})(\\mathbf a|\\mathbf b) + \\frac{1}{2\\alpha} N_i(\\mathbf a)(\\mathbf a-\\mathbf 1_i|\\mathbf b) + \\frac{1}{2\\alpha} N_i(\\mathbf b)(\\mathbf a|\\mathbf b-\\mathbf 1_i)\n",
    "\\end{equation}\n",
    "\n",
    "\n",
    "where $\\mathbf{P} = \\frac{\\alpha_a \\mathbf{A} + \\alpha_b \\mathbf{B}} {\\alpha}$, and ${N}_i$ is ???\n",
    "\n"
   ]
  },
  {
   "cell_type": "markdown",
   "metadata": {
    "collapsed": true
   },
   "source": [
    "### Write the recursion function\n",
    "Write a function that performs the Obara-Saika recursion for a given set of \n",
    "\n",
    "The Obara-Saika recursion relationships depend on $\\mathbf{P-A}$ and  $\\mathbf{P-B}$, $\\alpha$,  and two angular momenta (for $\\mathbf a$ and $\\mathbf b$) values which we will denote as `PA`, `PB`, `alpha`, `AMa`, and `AMb`. \n",
    "Let's write a function that takes these parameters and returns three matrices containing the x, y and z components of our unnormalized overlap integrals. These same components also can be used to construct our kinetic energy and dipole integrals later, as we will see.\n",
    "\n",
    "For now, we will set $(\\mathbf 0 | \\mathbf 0)$ to $1.0$ and account for it later. "
   ]
  },
  {
   "cell_type": "code",
   "execution_count": 2,
   "metadata": {
    "collapsed": true
   },
   "outputs": [],
   "source": [
    "import psi4\n",
    "import numpy as np\n",
    "\n",
    "def os_recursion(PA, PB, alpha, AMa, AMb):\n",
    "    if len(PA) != 3 or len(PB) != 3:\n",
    "        raise \"PA and PB must be xyz coordinates.\"\n",
    "\n",
    "    # Allocate space x, y, and z matrices\n",
    "    # We add one because the equation for the kinetic energy\n",
    "    # integrals require terms one beyond those in the overlap\n",
    "    x = np.zeros((AMa + 1, AMb + 1))\n",
    "    y = np.zeros((AMa + 1, AMb + 1))\n",
    "    z = np.zeros((AMa + 1, AMb + 1))\n",
    "\n",
    "    # Define 1/2alpha factor for convenience\n",
    "    oo2a = 1.0 / (2.0 * alpha)\n",
    "\n",
    "    # Set initial conditions (a|b) to 'start' for each component\n",
    "    x[0, 0] = y[0, 0] = z[0, 0] = 1.0\n",
    "\n",
    "    \n",
    "    # BEGIN RECURSION\n",
    "    # Upward recursion in b for a = 0\n",
    "    # Fill in the [0,1] position with PB\n",
    "    if AMb > 0:\n",
    "        x[0, 1] = PB[0]\n",
    "        y[0, 1] = PB[1]\n",
    "        z[0, 1] = PB[2]\n",
    "\n",
    "    # Fill in the rest of row zero\n",
    "    for b in range(1, AMb):\n",
    "        x[0, b + 1] = PB[0] * x[0, b] + b * oo2a * x[0, b - 1]\n",
    "        y[0, b + 1] = PB[1] * y[0, b] + b * oo2a * y[0, b - 1]\n",
    "        z[0, b + 1] = PB[2] * z[0, b] + b * oo2a * z[0, b - 1]\n",
    "\n",
    "    # Upward recursion in a for all b's\n",
    "    # Fill in the [1,0] position with PA\n",
    "    if AMa > 0:\n",
    "        x[1, 0] = PA[0]\n",
    "        y[1, 0] = PA[1]\n",
    "        z[1, 0] = PA[2]\n",
    "\n",
    "        # Fill in the rest of row one\n",
    "        for b in range(1, AMb + 1):\n",
    "            x[1, b] = PA[0] * x[0, b] + b * oo2a * x[0, b - 1]\n",
    "            y[1, b] = PA[1] * y[0, b] + b * oo2a * y[0, b - 1]\n",
    "            z[1, b] = PA[2] * z[0, b] + b * oo2a * z[0, b - 1]\n",
    "\n",
    "        # Fill in the rest of column 0\n",
    "        for a in range(1, AMa):\n",
    "            x[a + 1, 0] = PA[0] * x[a, 0] + a * oo2a * x[a - 1, 0]\n",
    "            y[a + 1, 0] = PA[1] * y[a, 0] + a * oo2a * y[a - 1, 0]\n",
    "            z[a + 1, 0] = PA[2] * z[a, 0] + a * oo2a * z[a - 1, 0]\n",
    "    \n",
    "        # Fill in the rest of the a'th row\n",
    "            for b in range(1, AMb + 1):\n",
    "                x[a + 1, b] = PA[0] * x[a, b] + a * oo2a * x[a - 1, b] + b * oo2a * x[a, b - 1]\n",
    "                y[a + 1, b] = PA[1] * y[a, b] + a * oo2a * y[a - 1, b] + b * oo2a * y[a, b - 1]\n",
    "                z[a + 1, b] = PA[2] * z[a, b] + a * oo2a * z[a - 1, b] + b * oo2a * z[a, b - 1]\n",
    "\n",
    "    # Return the results\n",
    "    return (x, y, z)\n"
   ]
  },
  {
   "cell_type": "code",
   "execution_count": 3,
   "metadata": {
    "scrolled": true
   },
   "outputs": [
    {
     "data": {
      "text/plain": [
       "(array([[  1.   ,   3.   ,   9.1  ,  27.9  ],\n",
       "        [  1.   ,   3.1  ,   9.7  ,  30.63 ],\n",
       "        [  1.1  ,   3.5  ,  11.23 ,  36.33 ],\n",
       "        [  1.3  ,   4.23 ,  13.87 ,  45.825]]),\n",
       " array([[  1.   ,   2.   ,   4.1  ,   8.6  ],\n",
       "        [  2.   ,   4.1  ,   8.6  ,  18.43 ],\n",
       "        [  4.1  ,   8.6  ,  18.43 ,  40.3  ],\n",
       "        [  8.6  ,  18.43 ,  40.3  ,  89.815]]),\n",
       " array([[  1.   ,   1.   ,   1.1  ,   1.3  ],\n",
       "        [  3.   ,   3.1  ,   3.5  ,   4.23 ],\n",
       "        [  9.1  ,   9.7  ,  11.23 ,  13.87 ],\n",
       "        [ 27.9  ,  30.63 ,  36.33 ,  45.825]]))"
      ]
     },
     "execution_count": 3,
     "metadata": {},
     "output_type": "execute_result"
    }
   ],
   "source": [
    "os_recursion([1.0, 2.0, 3.0], [3.0, 2.0, 1.0], 5.0, 3, 3)"
   ]
  },
  {
   "cell_type": "markdown",
   "metadata": {},
   "source": [
    "# Overlap Integrals\n",
    "\n",
    "Now that we have our recursion set up, we are ready to compute the integrals. First we need a molecule and a basis set. We compute a quick Hartree-Fock to obtain a wavefunction for easy access to the basis set, and we can compare Psi4's HF energy to our energy derived from our hand-coded integrals."
   ]
  },
  {
   "cell_type": "code",
   "execution_count": 4,
   "metadata": {
    "collapsed": true
   },
   "outputs": [],
   "source": [
    "mol = psi4.geometry(\"\"\"\n",
    "                        O\n",
    "                        H 1 1.1\n",
    "                        H 1 1.1 2 104\n",
    "                        symmetry c1\n",
    "                        \"\"\")\n",
    "\n",
    "\n",
    "psi4.set_options({'basis':        'sto-3g',\n",
    "                  'scf_type':     'pk',\n",
    "                  'mp2_type':     'conv',\n",
    "                  'puream': 0,\n",
    "                  'e_convergence': 1e-8,\n",
    "                  'd_convergence': 1e-8})\n",
    "\n",
    "scf_e, scf_wfn = psi4.energy('scf', return_wfn = True)\n",
    "\n",
    "basis = scf_wfn.basisset()\n",
    "mints = psi4.core.MintsHelper(basis)\n"
   ]
  },
  {
   "cell_type": "markdown",
   "metadata": {},
   "source": [
    "The factored form of the two-center overlap integrals is\n",
    "\\begin{equation}\n",
    "(\\mathbf a | \\mathbf b) = \\exp[-\\xi(\\mathbf A-\\mathbf B)^2]\\ I_x(n_{ax},n_{bx},n_{cx})\\ I_y(n_{ay},n_{by},n_{cy})\\ I_z(n_{az},n_{bz},n_{cz})\n",
    "\\end{equation}\n",
    "\n",
    "where I_x is the x component of the unnormalized overlap matrix and $\\kappa_{ab}$ is  $\\exp[-\\xi (\\mathbf A - \\mathbf B)^2]$\n",
    "\n",
    "To obtain the overlap matrix, we must loop over all shells, and for each shell, loop over the components (primitive gaussians). \n",
    "\n",
    "~~~python\n",
    "# make space to store the overlap integral matrix\n",
    "S = np.zeros((basis.nao(),basis.nao()))\n",
    "\n",
    "# loop over the shells, basis.nshell is the number of shells\n",
    "for i in range(basis.nshell()):\n",
    "    for j in range(basis.nshell()):\n",
    "        #basis.shell is a shell (1s, 2s, 2p, etc.)\n",
    "        #for water, there are 5 shells: (H: 1s, H: 1s, O: 1s, 2s, 2p)\n",
    "        ishell = basis.shell(i) \n",
    "        jshell = basis.shell(j)\n",
    "        #each shell has some number of primitives which make up each component of a shell\n",
    "        #sto-3g has 3 primitives for every component of every shell.\n",
    "        nprimi = ishell.nprimitive \n",
    "        nprimj = jshell.nprimitive\n",
    "       \n",
    "~~~\n",
    "\n",
    "at this point we access the orbital exponent $\\alpha$ for each primitive basis set $\\mathbf{a}$ and $\\mathbf{b}$ in $(\\mathbf{a}|\\mathbf{b})$. The `basis.shell()` (which we have set to `ishell` and `jshell`) is a `psi4.core.GaussianShell` object, which contains all the information we need about the primitives within a shell, such as the exponent `(shell().exp())`, the coefficient `(shell().coef())`, the angular momentum `(shell().am)` and the atom number of a shell `(shell().ncenter)` which we can use to get the coordinates of the primitive center ($\\mathbf{A}$ or $\\mathbf{B}$) (whew!). We store all of these in our for-loops as variables for easy access:\n",
    "\n",
    "~~~python\n",
    "        #loop over the primitives within a shell\n",
    "        for a in range(nprimi):  \n",
    "            for b in range(nprimj):\n",
    "                expa = ishell.exp(a) #exponents\n",
    "                expb = jshell.exp(b)\n",
    "                coefa = ishell.coef(a)  #coefficients\n",
    "                coefb = jshell.coef(b)\n",
    "                AMa = ishell.am  #angular momenta\n",
    "                AMb = jshell.am\n",
    "                #defining centers for each basis function \n",
    "                #mol.x() returns the x coordinate of the atom given by ishell.ncenter\n",
    "                #we use this to define a coordinate vector for our centers\n",
    "                A = [mol.x(ishell.ncenter), mol.y(ishell.ncenter), mol.z(ishell.ncenter)]\n",
    "                B = [mol.x(jshell.ncenter), mol.y(jshell.ncenter), mol.z(jshell.ncenter)]\n",
    "~~~\n",
    "\n",
    "We are now ready to define all the parameters that go into our recursion function and define the intitial starting point `start` of our recursion which should be the $s$ orbital overlap:\n",
    "\\begin{equation} s = (\\mathbf 0_A | \\mathbf 0_B) = \\left(\\frac{\\pi}{\\alpha}\\right)^{3/2} \\exp[-\\xi(\\mathbf A-\\mathbf B)^2] \n",
    "\\end{equation}\n",
    "                \n",
    "                \n",
    "~~~python\n",
    "                alpha = expa + expb\n",
    "                zeta = (expa * expb) / alpha\n",
    "                P = (expa * A + expb * B) / alpha\n",
    "                PA = P - A\n",
    "                PB = P - B\n",
    "                AB = A - B\n",
    "                start = (np.pi / alpha)**(3 / 2) * np.exp(-zeta * (AB[0]**2 + AB[1]**2 + AB[2]**2))\n",
    "                # call the recursion function\n",
    "                x, y, z = os_recursion(PA, PB, alpha, AMa, AMb, start)\n",
    "~~~\n",
    "\n",
    "\n",
    "We are now ready to assign the elements of our overlap matrix. Currently, we are only looping over the shells, but not the individual components of each shell (e.g. we are not distinguishing between $p_x$, $p_y$, and $p_z$). We must keep track of our blah\n",
    "\n",
    "~~~python\n",
    "                counta = 0\n",
    "                \n",
    "                for ii in range(AMa + 1):\n",
    "                    la = AMa - ii\n",
    "                    for jj in range(ii + 1):\n",
    "                        ma = ii - jj\n",
    "                        na = jj\n",
    "                        countb = 0\n",
    "                        for aa in range(AMb + 1):\n",
    "                            lb = AMb - aa\n",
    "                            for bb in range(aa + 1):\n",
    "                                mb = aa - bb\n",
    "                                nb = bb\n",
    "                                \n",
    "                                S[ishell.function_index + counta, jshell.function_index + countb] += start\n",
    "                                S[ishell.function_index + counta, jshell.function_index + countb] *= coefa\n",
    "                                S[ishell.function_index + counta, jshell.function_index + countb] *= coefb\n",
    "                                S[ishell.function_index + counta, jshell.function_index + countb] *= x[la,lb]\n",
    "                                S[ishell.function_index + counta, jshell.function_index + countb] *= y[ma,mb]\n",
    "                                S[ishell.function_index + counta, jshell.function_index + countb] *= z[na,nb]\n",
    "~~~"
   ]
  },
  {
   "cell_type": "markdown",
   "metadata": {},
   "source": [
    "Putting it all together we can form our full overlap matrix:"
   ]
  },
  {
   "cell_type": "code",
   "execution_count": 7,
   "metadata": {},
   "outputs": [],
   "source": [
    "# make space to store the overlap integral matrix\n",
    "S = np.zeros((basis.nao(),basis.nao()))\n",
    "\n",
    "# loop over the shells, basis.nshell is the number of shells\n",
    "for i in range(basis.nshell()):\n",
    "    for j in range(basis.nshell()):\n",
    "        #basis.shell is a shell (1s, 2s, 2p, etc.)\n",
    "        #for water, there are 5 shells: (H: 1s, H: 1s, O: 1s, 2s, 2p)\n",
    "        ishell = basis.shell(i) \n",
    "        jshell = basis.shell(j)\n",
    "        #each shell has some number of primitives which make up each component of a shell\n",
    "        #sto-3g has 3 primitives for every component of every shell.\n",
    "        nprimi = ishell.nprimitive \n",
    "        nprimj = jshell.nprimitive\n",
    "        #loop over the primitives within a shell\n",
    "        for a in range(nprimi):  \n",
    "            for b in range(nprimj):\n",
    "                expa = ishell.exp(a) #exponents\n",
    "                expb = jshell.exp(b)\n",
    "                coefa = ishell.coef(a)  #coefficients\n",
    "                coefb = jshell.coef(b)\n",
    "                AMa = ishell.am  #angular momenta\n",
    "                AMb = jshell.am\n",
    "                #defining centers for each basis function \n",
    "                #mol.x() returns the x coordinate of the atom given by ishell.ncenter\n",
    "                #we use this to define a coordinate vector for our centers\n",
    "                A = np.array([mol.x(ishell.ncenter), mol.y(ishell.ncenter), mol.z(ishell.ncenter)])\n",
    "                B = np.array([mol.x(jshell.ncenter), mol.y(jshell.ncenter), mol.z(jshell.ncenter)])\n",
    "\n",
    "                alpha = expa + expb\n",
    "                zeta = (expa * expb) / alpha\n",
    "                P = (expa * A + expb * B) / alpha\n",
    "                PA = P - A\n",
    "                PB = P - B\n",
    "                AB = A - B\n",
    "                start = (np.pi / alpha)**(3 / 2) * np.exp(-zeta * (AB[0]**2 + AB[1]**2 + AB[2]**2))\n",
    "               \n",
    "                # call the recursion\n",
    "                x, y, z = os_recursion(PA, PB, alpha, AMa+1, AMb+1)\n",
    "\n",
    "                counta = 0\n",
    "                for ii in range(AMa + 1):\n",
    "                    la = AMa - ii\n",
    "                    for jj in range(ii + 1):\n",
    "                        ma = ii - jj\n",
    "                        na = jj\n",
    "                        countb = 0\n",
    "                        for aa in range(AMb + 1):\n",
    "                            lb = AMb - aa\n",
    "                            for bb in range(aa + 1):\n",
    "                                mb = aa - bb\n",
    "                                nb = bb\n",
    "                            \n",
    "\n",
    "                                S[ishell.function_index + counta, jshell.function_index + countb] += start * coefa * coefb\n",
    "\n",
    "                                S[ishell.function_index + counta, jshell.function_index + countb] *= x[la,lb]\n",
    "                                S[ishell.function_index + counta, jshell.function_index + countb] *= y[ma,mb]\n",
    "                                S[ishell.function_index + counta, jshell.function_index + countb] *= z[na,nb]\n",
    "                                \n",
    "                                #S[ishell.function_index + counta, jshell.function_index + countb] += start*coefa*coefb *x[la,lb]*y[ma,mb]*z[na,nb]\n",
    "                                \n",
    "                                #S[ishell.function_index + counta, jshell.function_index + countb] *= coefb*x[la,lb]*y[ma,mb]*z[na,nb]\n",
    "                \n",
    "                                countb += 1\n",
    "                        counta += 1\n",
    "                        "
   ]
  },
  {
   "cell_type": "markdown",
   "metadata": {},
   "source": [
    "Check our overlap against Psi4:"
   ]
  },
  {
   "cell_type": "code",
   "execution_count": 8,
   "metadata": {},
   "outputs": [
    {
     "name": "stdout",
     "output_type": "stream",
     "text": [
      "[[ 1.          0.23670394  0.          0.          0.          0.03840559\n",
      "   0.03840559]\n",
      " [ 0.23670394  1.          0.          0.          0.          0.38613879\n",
      "   0.38613879]\n",
      " [ 0.          0.          0.26923584  0.          0.          0.          0.        ]\n",
      " [ 0.          0.          0.          0.26923584  0.         -0.00190698\n",
      "   0.14627216]\n",
      " [ 0.          0.          0.          0.          0.26923584  0.08872581\n",
      "   0.08872581]\n",
      " [ 0.03840559  0.38613879  0.         -0.04054055  0.0562398   1.\n",
      "   0.18175985]\n",
      " [ 0.03840559  0.38613879  0.          0.07636306  0.0562398   0.18175985\n",
      "   1.        ]]\n",
      "[[  1.00000000e+00   2.36703937e-01   0.00000000e+00   0.00000000e+00\n",
      "   -1.61865880e-18   3.84055921e-02   3.84055921e-02]\n",
      " [  2.36703937e-01   1.00000000e+00   0.00000000e+00   0.00000000e+00\n",
      "   -1.77144813e-17   3.86138791e-01   3.86138791e-01]\n",
      " [  0.00000000e+00   0.00000000e+00   1.00000000e+00   0.00000000e+00\n",
      "    0.00000000e+00   0.00000000e+00   0.00000000e+00]\n",
      " [  0.00000000e+00   0.00000000e+00   0.00000000e+00   1.00000000e+00\n",
      "    0.00000000e+00  -2.68438218e-01   2.68438218e-01]\n",
      " [ -1.61865880e-18  -1.77144813e-17   0.00000000e+00   0.00000000e+00\n",
      "    1.00000000e+00   2.09726922e-01   2.09726922e-01]\n",
      " [  3.84055921e-02   3.86138791e-01   0.00000000e+00  -2.68438218e-01\n",
      "    2.09726922e-01   1.00000000e+00   1.81759850e-01]\n",
      " [  3.84055921e-02   3.86138791e-01   0.00000000e+00   2.68438218e-01\n",
      "    2.09726922e-01   1.81759850e-01   1.00000000e+00]]\n"
     ]
    },
    {
     "data": {
      "text/plain": [
       "True"
      ]
     },
     "execution_count": 8,
     "metadata": {},
     "output_type": "execute_result"
    }
   ],
   "source": [
    "Spsi4 = np.asarray(mints.ao_overlap())\n",
    "print(S)\n",
    "print(Spsi4)\n",
    "np.allclose(S, Spsi4, 5)"
   ]
  },
  {
   "cell_type": "markdown",
   "metadata": {},
   "source": [
    "### Recurrence expressions for overlap integrals over $s$, $p$, and $d$  Cartesian Gaussian funcions\n",
    "\\begin{align}\n",
    "(s|s) =& \\left(\\frac{\\pi}{\\alpha}\\right)^{3/2} \\exp\\left\\{-\\xi(\\mathbf A-\\mathbf B)^2\\right\\} \\\\\n",
    "(p_i|s) =& (P_i - A_i)(s|s) \\\\\n",
    "(p_i|p_j) =& (P_j - B_j)(p_i|s) + \\frac{\\delta_{ij}}{2\\alpha}(s|s) \\\\\n",
    "(d_{ij}|s) =& (P_j-A_j)(p_i|s) + \\frac{\\delta_{ij}}{2\\alpha}(s|s) \\\\\n",
    "(d_{ij}|p_k) =& (P_k-B_k)(d_{ij}|s) + \\frac{\\delta_{ik}}{2\\alpha}(p_j|s) + \\frac{\\delta_{jk}}{2\\alpha}(p_i|s) \\\\\n",
    "(d_{ij}|d_{kl}) =& (P_l-B_l)(d_{ij}|p_k) + \\frac{\\delta_{il}}{2\\alpha}(p_j|p_k) + \\frac{\\delta_{jl}}{2\\alpha}(p_i|p_k) + \\frac{\\delta_{kl}}{2\\alpha}(d_{ij}|s) \\\\\n",
    "\\\\\n",
    "& (i,j,k,l = x,y,z)\n",
    "\\end{align}\n",
    "\n",
    "### Cartesian function ordering that Psi4 uses\n",
    "In writing your recursion, you will need to be aware of how Psi4 orders Cartesian functions with higher angular momentum:\n",
    "\\begin{align}\n",
    "\\mathbf s &= s \\\\\n",
    "\\mathbf p &= p_x, p_y, p_z \\\\\n",
    "\\mathbf d &= d_{x^2}, d_{xy}, d_{xz}, d_{y^2}, d_{yz}, d_{z^2} \\\\\n",
    "\\mathbf f &= f_{x^3}, f_{x^2y}, f_{x^2z}, f_{xy^2}, f_{xyz}, f_{xz^2}, f_{y^3}, f_{y^2z}, f_{yz^2}, f_{z^3}\n",
    "\\end{align}\n",
    "\n"
   ]
  },
  {
   "cell_type": "markdown",
   "metadata": {},
   "source": [
    "## One electron integrals\n",
    "Now it is time to compute the following one-electron integrals:\n",
    "- overlap\n",
    "- kinetic\n",
    "- dipole moment\n",
    "\n",
    "Due to the added complexity of the nuclear attraction integrals and the two-electron repulsion integrals, we will not compute them in this tutorial.\n",
    "\n",
    "### Kinetic energy integrals \n",
    "Before proceeding to an analysis of the kinetic energy integral, it will prove convenient to establish a short hard notation for integrals related to the overlap integral:\n",
    "\\begin{equation}\n",
    "(0|0) = \\int G(\\alpha_1, \\mathbf A, l_1, m_1, n_1) G(\\alpha_2, \\mathbf B, l_2, m_2, n_2)\\ d\\tau\n",
    "\\end{equation}\n",
    "The symbol $<+\\mathrm{n}|0>_{\\mathrm{x}}$ will denote an integral of the form given by the above equation, except that the quantum number $l_1$ has been incremented by n. Similar notation applies to the $m_1$ and $n_1$ quantum numbers with the use of subscripts x and y.  We will also use the symbols $<0|+\\mathrm{n}>_{\\mathrm{x}}$, where we have incremented the quantum number $l_2$ by n. You should see the pattern.\n",
    "\n",
    "The kinetic energy integral is defined as\n",
    "\\begin{equation}\n",
    "T_{ij} = -\\frac{1}{2} \\int \\phi_i(1) \\nabla_1^2 \\phi_j(1)\\ d\\tau_1\n",
    "\\end{equation}\n",
    "and as\n",
    "\\begin{equation}\n",
    "KE = - \\frac{1}{2}  \\int G(\\alpha_1, \\mathbf A, l_1, m_1, n_1) \\left(\\frac{\\partial^2}{\\partial x^2} + \\frac{\\partial^2}{\\partial y^2} + \\frac{\\partial^2}{\\partial z^2}\\right) G(\\alpha_2, \\mathbf B, l_2, m_2, n_2)\\ d\\tau\n",
    "\\end{equation}\n",
    "\n",
    "Evaluate the kinetic energy integrals for $I_x$, $I_y$, and $I_z$ and code them up to obtain $T_{ij}$. The equations that you obtain for these integrals are \"unsymmetric\" because the quantum numbers of the Gaussian-type function centered on $\\mathbf B$ are altered while those of the Gaussian-type function on $\\mathbf A$ are not.\n",
    "\n",
    "Here is the symmetric form of the kinetic energy integral $I_x$ component.\n",
    "\\begin{equation}\n",
    "I_x = \\frac{1}{2}\\Big\\{l_1 l_2 (-1|-1)_{\\mathrm{x}} + 4\\alpha_1 \\alpha_2 (+1|+1)_{\\mathrm{x}} - 2\\alpha_1 l_2 (+1|-1)_{\\mathrm{x}} - 2\\alpha_2 l_1 (-1|+1)_{\\mathrm{x}}\\Big\\}\n",
    "\\end{equation}\n",
    "\n",
    "### Dipole moment integrals\n",
    "We discuss these non-energy integrals here because they are frequently used and closely connected with the overlap and kinetic energy integrals. The dipole moment is defined with respect to a point in space $\\mathbf C$, which is almost always taken to be the center of mass. Fortunately for our purposes, Psi4 automatically moves the molecule to be centered on the center of mass and thus $\\mathbf C$ is $\\mathbf 0$. The dipole moment integral is written for the $x$ direction as\n",
    "\\begin{equation}\n",
    "d_{\\mathrm{x}} =  \\int G(\\alpha_1, \\mathbf A, l_1, m_1, n_1) G(\\alpha_2, \\mathbf B, l_2, m_2, n_2) \\mathrm{x_c}\\ d\\tau\n",
    "\\end{equation}\n",
    "and similarly for the operators $\\mathrm{y_c}$ and $\\mathrm{z_c}$. A convenient procedure is to redefine $\\mathrm{x_c}$ in terms of  $\\mathrm{x_A}$ or $\\mathrm{x_B}$, and we will use $\\mathrm{x_A}$. Thus\n",
    "\\begin{equation}\n",
    "\\mathrm{x_c} = \\mathrm{x} - \\mathrm{C_x} = (\\mathrm{x - A_x}) + (\\mathrm{A_x - C_x}) = \\mathrm{x_A + \\mathbf {AC}_x}\n",
    "\\end{equation}\n",
    "and we find\n",
    "\\begin{equation}\n",
    "d_\\mathrm{x} = (+1|0)_{\\mathrm{x}} + \\mathbf{AC}_{\\mathrm{x}} (0|0)\n",
    "\\end{equation}\n",
    "Similarily for $d_{\\mathrm{y}}$ and $d_{\\mathrm{z}}$.\n",
    "\n",
    "#### The x component\n",
    "\\begin{align}\n",
    "\\mu_x =& - \\mu_{\\mathrm{elec}} + \\mu_{\\mathrm{nuclear}}\\\\\n",
    "\\mu_x =& - \\sum_{\\mu \\nu}^{\\mathrm{AO}} D_{\\mu \\nu} d_{\\mu \\nu}^{x} + \\sum_A^N Z_A X_A\n",
    "\\end{align}\n",
    "\n",
    "You can obtain the nuclear contribution to the dipole $\\mu_{\\mathrm{nuclear}}$ from Psi4 using\n",
    "\n",
    "    psi4.core.nuclear_dipole(molecule).to_array()\n",
    "\n",
    "#### The total dipole moment\n",
    "\\begin{equation}\n",
    "\\mu = \\sqrt{\\mu_x^2 + \\mu_y^2 + \\mu_z^2}\n",
    "\\end{equation}"
   ]
  },
  {
   "cell_type": "markdown",
   "metadata": {},
   "source": [
    "### Kinetic energy integrals \n",
    "Before proceeding to an analysis of the kinetic energy integral, it will prove convenient to establish a short hard notation for integrals related to the overlap integral:\n",
    "\\begin{equation}\n",
    "(0|0) = \\int G(\\alpha_1, \\mathbf A, l_1, m_1, n_1) G(\\alpha_2, \\mathbf B, l_2, m_2, n_2)\\ d\\tau\n",
    "\\end{equation}\n",
    "The symbol $<+\\mathrm{n}|0>_{\\mathrm{x}}$ will denote an integral of the form given by the above equation, except that the quantum number $l_1$ has been incremented by n. Similar notation applies to the $m_1$ and $n_1$ quantum numbers with the use of subscripts x and y.  We will also use the symbols $<0|+\\mathrm{n}>_{\\mathrm{x}}$, where we have incremented the quantum number $l_2$ by n. You should see the pattern.\n",
    "\n",
    "The kinetic energy integral is defined as\n",
    "\\begin{equation}\n",
    "T_{ij} = -\\frac{1}{2} \\int \\phi_i(1) \\nabla_1^2 \\phi_j(1)\\ d\\tau_1\n",
    "\\end{equation}\n",
    "and as\n",
    "\\begin{equation}\n",
    "KE = - \\frac{1}{2}  \\int G(\\alpha_1, \\mathbf A, l_1, m_1, n_1) \\left(\\frac{\\partial^2}{\\partial x^2} + \\frac{\\partial^2}{\\partial y^2} + \\frac{\\partial^2}{\\partial z^2}\\right) G(\\alpha_2, \\mathbf B, l_2, m_2, n_2)\\ d\\tau\n",
    "\\end{equation}\n",
    "\n",
    "Evaluate the kinetic energy integrals for $I_x$, $I_y$, and $I_z$ and code them up to obtain $T_{ij}$. The equations that you obtain for these integrals are \"unsymmetric\" because the quantum numbers of the Gaussian-type function centered on $\\mathbf B$ are altered while those of the Gaussian-type function on $\\mathbf A$ are not.\n",
    "\n",
    "Here is the symmetric form of the kinetic energy integral $I_x$ component.\n",
    "\\begin{equation}\n",
    "I_x = \\frac{1}{2}\\Big\\{l_1 l_2 (-1|-1)_{\\mathrm{x}} + 4\\alpha_1 \\alpha_2 (+1|+1)_{\\mathrm{x}} - 2\\alpha_1 l_2 (+1|-1)_{\\mathrm{x}} - 2\\alpha_2 l_1 (-1|+1)_{\\mathrm{x}}\\Big\\}\n",
    "\\end{equation}\n"
   ]
  },
  {
   "cell_type": "markdown",
   "metadata": {},
   "source": [
    "### Dipole moment integrals\n",
    "We discuss these non-energy integrals here because they are frequently used and closely connected with the overlap and kinetic energy integrals. The dipole moment is defined with respect to a point in space $\\mathbf C$, which is almost always taken to be the center of mass. Fortunately for our purposes, Psi4 automatically moves the molecule to be centered on the center of mass and thus $\\mathbf C$ is $\\mathbf 0$. The dipole moment integral is written for the $x$ direction as\n",
    "\\begin{equation}\n",
    "d_{\\mathrm{x}} =  \\int G(\\alpha_1, \\mathbf A, l_1, m_1, n_1) G(\\alpha_2, \\mathbf B, l_2, m_2, n_2) \\mathrm{x_c}\\ d\\tau\n",
    "\\end{equation}\n",
    "and similarly for the operators $\\mathrm{y_c}$ and $\\mathrm{z_c}$. A convenient procedure is to redefine $\\mathrm{x_c}$ in terms of  $\\mathrm{x_A}$ or $\\mathrm{x_B}$, and we will use $\\mathrm{x_A}$. Thus\n",
    "\\begin{equation}\n",
    "\\mathrm{x_c} = \\mathrm{x} - \\mathrm{C_x} = (\\mathrm{x - A_x}) + (\\mathrm{A_x - C_x}) = \\mathrm{x_A + \\mathbf {AC}_x}\n",
    "\\end{equation}\n",
    "and we find\n",
    "\\begin{equation}\n",
    "d_\\mathrm{x} = (+1|0)_{\\mathrm{x}} + \\mathbf{AC}_{\\mathrm{x}} (0|0)\n",
    "\\end{equation}\n",
    "Similarily for $d_{\\mathrm{y}}$ and $d_{\\mathrm{z}}$.\n",
    "\n",
    "#### The x component\n",
    "\\begin{align}\n",
    "\\mu_x =& - \\mu_{\\mathrm{elec}} + \\mu_{\\mathrm{nuclear}}\\\\\n",
    "\\mu_x =& - \\sum_{\\mu \\nu}^{\\mathrm{AO}} D_{\\mu \\nu} d_{\\mu \\nu}^{x} + \\sum_A^N Z_A X_A\n",
    "\\end{align}\n",
    "\n",
    "You can obtain the nuclear contribution to the dipole $\\mu_{\\mathrm{nuclear}}$ from Psi4 using\n",
    "\n",
    "    psi4.core.nuclear_dipole(molecule).to_array()\n",
    "\n",
    "#### The total dipole moment\n",
    "\\begin{equation}\n",
    "\\mu = \\sqrt{\\mu_x^2 + \\mu_y^2 + \\mu_z^2}\n",
    "\\end{equation}"
   ]
  },
  {
   "cell_type": "markdown",
   "metadata": {
    "collapsed": true
   },
   "source": [
    "## Load Psi4 and NumPy\n",
    "As with the Hartree-Fock tutorial, we'll start by importing some useful modules and setting basic quantities for use in Psi4."
   ]
  },
  {
   "cell_type": "code",
   "execution_count": 78,
   "metadata": {},
   "outputs": [
    {
     "ename": "KeyError",
     "evalue": "'molecule'",
     "output_type": "error",
     "traceback": [
      "\u001b[0;31m---------------------------------------------------------------------------\u001b[0m",
      "\u001b[0;31mKeyError\u001b[0m                                  Traceback (most recent call last)",
      "\u001b[0;32m<ipython-input-78-beafaeb33142>\u001b[0m in \u001b[0;36m<module>\u001b[0;34m()\u001b[0m\n\u001b[1;32m     10\u001b[0m \u001b[0mconfig\u001b[0m\u001b[0;34m.\u001b[0m\u001b[0mread\u001b[0m\u001b[0;34m(\u001b[0m\u001b[0;34m'Options.ini'\u001b[0m\u001b[0;34m)\u001b[0m\u001b[0;34m\u001b[0m\u001b[0m\n\u001b[1;32m     11\u001b[0m \u001b[0;34m\u001b[0m\u001b[0m\n\u001b[0;32m---> 12\u001b[0;31m \u001b[0mmolecule\u001b[0m \u001b[0;34m=\u001b[0m \u001b[0mpsi4\u001b[0m\u001b[0;34m.\u001b[0m\u001b[0mgeometry\u001b[0m\u001b[0;34m(\u001b[0m\u001b[0mconfig\u001b[0m\u001b[0;34m[\u001b[0m\u001b[0;34m'DEFAULT'\u001b[0m\u001b[0;34m]\u001b[0m\u001b[0;34m[\u001b[0m\u001b[0;34m'molecule'\u001b[0m\u001b[0;34m]\u001b[0m\u001b[0;34m)\u001b[0m\u001b[0;34m\u001b[0m\u001b[0m\n\u001b[0m\u001b[1;32m     13\u001b[0m \u001b[0;34m\u001b[0m\u001b[0m\n\u001b[1;32m     14\u001b[0m \u001b[0;31m# For your integrals code to match Psi4's ordering you must include \"puream=0\"\u001b[0m\u001b[0;34m\u001b[0m\u001b[0;34m\u001b[0m\u001b[0m\n",
      "\u001b[0;32m/Applications/anaconda/envs/sss/lib/python3.5/configparser.py\u001b[0m in \u001b[0;36m__getitem__\u001b[0;34m(self, key)\u001b[0m\n\u001b[1;32m   1228\u001b[0m     \u001b[0;32mdef\u001b[0m \u001b[0m__getitem__\u001b[0m\u001b[0;34m(\u001b[0m\u001b[0mself\u001b[0m\u001b[0;34m,\u001b[0m \u001b[0mkey\u001b[0m\u001b[0;34m)\u001b[0m\u001b[0;34m:\u001b[0m\u001b[0;34m\u001b[0m\u001b[0m\n\u001b[1;32m   1229\u001b[0m         \u001b[0;32mif\u001b[0m \u001b[0;32mnot\u001b[0m \u001b[0mself\u001b[0m\u001b[0;34m.\u001b[0m\u001b[0m_parser\u001b[0m\u001b[0;34m.\u001b[0m\u001b[0mhas_option\u001b[0m\u001b[0;34m(\u001b[0m\u001b[0mself\u001b[0m\u001b[0;34m.\u001b[0m\u001b[0m_name\u001b[0m\u001b[0;34m,\u001b[0m \u001b[0mkey\u001b[0m\u001b[0;34m)\u001b[0m\u001b[0;34m:\u001b[0m\u001b[0;34m\u001b[0m\u001b[0m\n\u001b[0;32m-> 1230\u001b[0;31m             \u001b[0;32mraise\u001b[0m \u001b[0mKeyError\u001b[0m\u001b[0;34m(\u001b[0m\u001b[0mkey\u001b[0m\u001b[0;34m)\u001b[0m\u001b[0;34m\u001b[0m\u001b[0m\n\u001b[0m\u001b[1;32m   1231\u001b[0m         \u001b[0;32mreturn\u001b[0m \u001b[0mself\u001b[0m\u001b[0;34m.\u001b[0m\u001b[0m_parser\u001b[0m\u001b[0;34m.\u001b[0m\u001b[0mget\u001b[0m\u001b[0;34m(\u001b[0m\u001b[0mself\u001b[0m\u001b[0;34m.\u001b[0m\u001b[0m_name\u001b[0m\u001b[0;34m,\u001b[0m \u001b[0mkey\u001b[0m\u001b[0;34m)\u001b[0m\u001b[0;34m\u001b[0m\u001b[0m\n\u001b[1;32m   1232\u001b[0m \u001b[0;34m\u001b[0m\u001b[0m\n",
      "\u001b[0;31mKeyError\u001b[0m: 'molecule'"
     ]
    }
   ],
   "source": [
    "import psi4\n",
    "import numpy as np\n",
    "\n",
    "# I'll show some plots\n",
    "import matplotlib.pyplot as plt\n",
    "\n",
    "# Load in the required options\n",
    "import configparser\n",
    "config = configparser.ConfigParser()\n",
    "config.read('Options.ini')\n",
    "\n",
    "molecule = psi4.geometry(config['DEFAULT']['molecule'])\n",
    "\n",
    "# For your integrals code to match Psi4's ordering you must include \"puream=0\"\n",
    "basis = psi4.core.BasisSet.build(molecule, 'BASIS', 'STO-3G', puream=0)\n",
    "mints = psi4.core.MintsHelper(basis)"
   ]
  },
  {
   "cell_type": "markdown",
   "metadata": {},
   "source": [
    "## Determine some information about the basis set"
   ]
  },
  {
   "cell_type": "code",
   "execution_count": null,
   "metadata": {
    "collapsed": true
   },
   "outputs": [],
   "source": [
    "# Look at the help documentation for the basis set\n",
    "help(basis)\n",
    "help(psi4.core.GaussianShell)"
   ]
  },
  {
   "cell_type": "code",
   "execution_count": null,
   "metadata": {
    "collapsed": true
   },
   "outputs": [],
   "source": [
    "print('The number of shells: %d' % (basis.nshell()))\n",
    "print('The number of basis functions: %d' % (basis.nao()))"
   ]
  },
  {
   "cell_type": "code",
   "execution_count": null,
   "metadata": {
    "collapsed": true
   },
   "outputs": [],
   "source": [
    "# Print out some information about the shells in the basis set\n",
    "for ishell in range(basis.nshell()):\n",
    "    shell = basis.shell(ishell)\n",
    "    print('Shell %d:' % (ishell))\n",
    "    print('  Atom: %d' % (shell.ncenter))\n",
    "    print('  AM: %d' % (shell.am))\n",
    "    print('  # Cartesian functions: %d' % (shell.ncartesian))\n",
    "    print('  # of primitive Gaussians: %d ' % (shell.nprimitive))\n",
    "    print('  function_index: %d' % (shell.function_index))\n",
    "    print('  center: %f, %f, %f' % (molecule.x(shell.ncenter), molecule.y(shell.ncenter), molecule.z(shell.ncenter)))"
   ]
  },
  {
   "cell_type": "markdown",
   "metadata": {},
   "source": [
    "### Let's plot some of the functions to see what they look like"
   ]
  },
  {
   "cell_type": "code",
   "execution_count": null,
   "metadata": {
    "collapsed": true
   },
   "outputs": [],
   "source": [
    "# This is to show you have to access individual shells and access their coefficients and exponents.\n",
    "shell0 = basis.shell(0)\n",
    "\n",
    "# generate a list of points to evaluate the basis function (R=0 to 10 in 100 points)\n",
    "R = np.linspace(0, 2, 100, endpoint=True)\n",
    "\n",
    "# Plot each primitive\n",
    "for idx in range(shell0.nprimitive):\n",
    "    v = shell0.coef(idx) * np.exp(-shell0.exp(idx) * R**2)\n",
    "    plt.plot(R, v)\n",
    "plt.show()"
   ]
  },
  {
   "cell_type": "markdown",
   "metadata": {
    "collapsed": true
   },
   "source": [
    "### Sample x, y, and z matrices"
   ]
  },
  {
   "cell_type": "code",
   "execution_count": null,
   "metadata": {
    "collapsed": true
   },
   "outputs": [],
   "source": [
    "import OS"
   ]
  },
  {
   "cell_type": "code",
   "execution_count": null,
   "metadata": {
    "collapsed": true
   },
   "outputs": [],
   "source": [
    "(x, y, z) = OS.os_recursion([1.0, 2.0, 3.0], [3.0, 2.0, 1.0], 1.0, 3, 3)\n",
    "print('x=\\n', x)\n",
    "print('y=\\n', y)\n",
    "print('z=\\n', z)"
   ]
  },
  {
   "cell_type": "code",
   "execution_count": null,
   "metadata": {
    "collapsed": true
   },
   "outputs": [],
   "source": [
    "dipole = [x.to_array() for x in mints.ao_dipole()]\n",
    "print(dipole)\n",
    "psi4.core.nuclear_dipole(molecule).to_array()"
   ]
  },
  {
   "cell_type": "markdown",
   "metadata": {
    "collapsed": true
   },
   "source": [
    "### Compute one-electron integrals\n",
    "Now you should be ready to compute some integrals!"
   ]
  },
  {
   "cell_type": "code",
   "execution_count": null,
   "metadata": {
    "collapsed": true
   },
   "outputs": [],
   "source": [
    "import psi4\n",
    "import numpy as np\n",
    "from OS import os_recursion\n",
    "# linalg package for matrix square root function:\n",
    "from scipy import linalg as la\n",
    "from collections import namedtuple\n",
    "RecursionResults = namedtuple('RecursionResults', ['x', 'y', 'z'])\n",
    "\n",
    "import configparser\n",
    "config = configparser.ConfigParser()\n",
    "config.read('Options.ini')\n",
    "\n",
    "molecule = psi4.geometry(config['DEFAULT']['molecule'])\n",
    "molecule.update_geometry()\n",
    "basis = psi4.core.BasisSet.build(molecule, \"BASIS\", config['DEFAULT']['basis'], puream=0)\n",
    "#This line is just for the two-electron integrals:\n",
    "mints = psi4.core.MintsHelper(basis)\n",
    "\n",
    "###################################\n",
    "# Integral stuff\n",
    "###################################\n",
    "#Total number of AOs for molecule\n",
    "naos = basis.nao()\n",
    "#Matrix to store overlap integrals\n",
    "S = np.zeros((naos, naos))\n",
    "#Matrix to store kinetic energy integrals\n",
    "K = np.zeros((naos, naos))\n",
    "#Matrices to store dipole integrals\n",
    "dipolex = np.zeros((naos, naos))\n",
    "dipoley = np.zeros((naos, naos))\n",
    "dipolez = np.zeros((naos, naos))\n",
    "\n",
    "#Point with respect to which we\n",
    "#define dipole moment\n",
    "C = (0., 0., 0.)\n",
    "\n",
    "for i in range(basis.nshell()): \n",
    "    for j in range(basis.nshell()):\n",
    "        ishell = basis.shell(i)\n",
    "        jshell = basis.shell(j)\n",
    "        for p in range(ishell.nprimitive):\n",
    "            for q in range(jshell.nprimitive):\n",
    "                #p and q label primitives\n",
    "                # l + m + n = angmom of shell\n",
    "                AMa = ishell.am \n",
    "                AMb = jshell.am\n",
    "        κab=ξ=        #\n",
    "                Ax = molecule.x(ishell.ncenter)\n",
    "                Ay = molecule.y(ishell.ncenter)\n",
    "                Az = molecule.z(ishell.ncenter)\n",
    "                Bx = molecule.x(jshell.ncenter)\n",
    "                By = molecule.y(jshell.ncenter)\n",
    "                Bz = molecule.z(jshell.ncenter)\n",
    "                #alphas are exponents\n",
    "                alphaa = ishell.exp(p)\n",
    "                alphab = jshell.exp(q)\n",
    "                #\n",
    "                coefa = ishell.coef(p)\n",
    "                coefb = jshell.coef(q)\n",
    "                #\n",
    "                alpha = alphaa + alphab\n",
    "                Px = (alphaa*Ax + alphab*Bx)/(alpha)\n",
    "                Py = (alphaa*Ay + alphab*By)/(alpha)\n",
    "                Pz = (alphaa*Az + alphab*Bz)/(alpha)\n",
    "                #\n",
    "                PAx = Px - Ax\n",
    "                PAy = Py - Ay\n",
    "                PAz = Pz - Az\n",
    "                # \n",
    "                PBx = Px - Bx\n",
    "                PBy = Py - By\n",
    "                PBz = Pz - Bz\n",
    "                # \n",
    "                PA = (PAx, PAy, PAz)\n",
    "                PB = (PBx, PBy, PBz)\n",
    "                # \n",
    "                zeta = (alphaa*alphab)/(alpha)\n",
    "                #\n",
    "                kappa = (np.pi/alpha)**(3/2)*np.exp(-zeta*(Ax-Bx)**2)*np.exp(-zeta*(Ay-By)**2)*np.exp(-zeta*(Az-Bz)**2)\n",
    "                #\n",
    "                matx, maty, matz = os_recursion(PA, PB, alpha, AMa, AMb)\n",
    "                #\n",
    "                # Counter!!!\n",
    "                counta = 0\n",
    "\n",
    "                # l on atom one\n",
    "                for k in range(AMa+1):\n",
    "                    lo = AMa-k\n",
    "                    # m on atom one\n",
    "                    for l in range(AMa+1-lo):\n",
    "                        mo = AMa - lo - l\n",
    "                        # n on atom one\n",
    "                        no = AMa - lo - mo\n",
    "                        #\n",
    "                        countb = 0\n",
    "                        # l on atom two\n",
    "                        for m in range(AMb+1):\n",
    "                            lt = AMb-m\n",
    "                            # m on atom two\n",
    "                            for n in range(AMb+1-lt):\n",
    "                                mt = AMb - lt - n\n",
    "                                # n on atom two\n",
    "                                nt = AMb - lt - mt\n",
    "                                #print('AMb', lt, mt, nt)\n",
    "                                # Set the matrix elements\n",
    "                                S[ishell.function_index + counta, jshell.function_index + countb] += kappa*coefa*coefb*matx[lo,lt]*maty[mo,mt]*matz[no,nt]\n",
    "                                #\n",
    "                                # Kinetic energy integral stuff\n",
    "                                Tx = (1/2)*(lo*lt*matx[lo-1,lt-1] + 4*alphaa*alphab*matx[lo+1,lt+1] - 2*alphaa*lt*matx[lo+1,lt-1] - 2*alphab*lo*matx[lo-1,lt+1])\n",
    "                                Ty = (1/2)*(mo*mt*maty[mo-1,mt-1] + 4*alphaa*alphab*maty[mo+1,mt+1] - 2*alphaa*mt*maty[mo+1,mt-1] - 2*alphab*mo*maty[mo-1,mt+1])\n",
    "                                Tz = (1/2)*(no*nt*matz[no-1,nt-1] + 4*alphaa*alphab*matz[no+1,nt+1] - 2*alphaa*nt*matz[no+1,nt-1] - 2*alphab*no*matz[no-1,nt+1])\n",
    "                                #\n",
    "                                K[ishell.function_index + counta, jshell.function_index + countb] += kappa*coefa*coefb*Tx*maty[mo,mt]*matz[no,nt] \n",
    "                                K[ishell.function_index + counta, jshell.function_index + countb] += kappa*coefa*coefb*matx[lo,lt]*Ty*matz[no,nt] \n",
    "                                K[ishell.function_index + counta, jshell.function_index + countb] += kappa*coefa*coefb*matx[lo,lt]*maty[mo,mt]*Tz\n",
    "                                # \n",
    "                                dipolex[ishell.function_index + counta, jshell.function_index + countb] += kappa*coefa*coefb*(matx[lo+1,lt] + (Ax)*matx[lo,lt])*maty[mo,mt]*matz[no,nt]\n",
    "                                dipoley[ishell.function_index + counta, jshell.function_index + countb] += kappa*coefa*coefb*matx[lo,lt]*(maty[mo+1,mt] + (Ay)*maty[mo,mt])*matz[no,nt]\n",
    "                                dipolez[ishell.function_index + counta, jshell.function_index + countb] += kappa*coefa*coefb*matx[lo,lt]*maty[mo,mt]*(matz[no+1,nt] + (Az)*matz[no,nt])\n",
    "                                #\n",
    "                                countb = countb + 1\n",
    "                        #\n",
    "                        counta = counta + 1\n"
   ]
  },
  {
   "cell_type": "markdown",
   "metadata": {},
   "source": [
    "#### Compare to Psi4\n",
    "Check your energy and dipole moment against the energy and dipole moment Psi4 outputs:"
   ]
  },
  {
   "cell_type": "code",
   "execution_count": null,
   "metadata": {
    "collapsed": true
   },
   "outputs": [],
   "source": []
  }
 ],
 "metadata": {
  "anaconda-cloud": {},
  "kernelspec": {
   "display_name": "Python 3",
   "language": "python",
   "name": "python3"
  },
  "language_info": {
   "codemirror_mode": {
    "name": "ipython",
    "version": 3
   },
   "file_extension": ".py",
   "mimetype": "text/x-python",
   "name": "python",
   "nbconvert_exporter": "python",
   "pygments_lexer": "ipython3",
   "version": "3.5.3"
  }
 },
 "nbformat": 4,
 "nbformat_minor": 2
}
