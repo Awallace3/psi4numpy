{
 "cells": [
  {
   "cell_type": "code",
   "execution_count": 1,
   "metadata": {},
   "outputs": [],
   "source": [
    "\"\"\"Tutorial: SCF first hyperpolarizability\"\"\"\n",
    "\n",
    "__author__    = \"Eric J. Berquist\"\n",
    "__credit__    = [\"Eric J. Berquist\"]\n",
    "\n",
    "__copyright__ = \"(c) 2014-2017, The Psi4NumPy Developers\"\n",
    "__license__   = \"BSD-3-Clause\"\n",
    "__date__      = \"2017-12-19\""
   ]
  },
  {
   "cell_type": "markdown",
   "metadata": {},
   "source": [
    "# SCF First Hyperpolarizability\n",
    "\n",
    "## Introduction\n",
    "\n",
    "In Tutorial 6a, the calculation of linear response properties from analytic derivative theory is presented, the foundation of which are the coupled-perturbed Hartree-Fock (CPHF) or coupled-perturbed self-consistent field (CPSCF) equations. Starting from analytic derivative theory provides a convenient physical picture: how does the total energy of a system change under the influence of one or more internal or external perturbations? Continuing the case of an external electric field, the total energy of a system can be represented with a series expansion:\n",
    "\n",
    "$$\n",
    "E(\\mathbf{E}) = \\sum_{n=0}^{\\infty} \\frac{1}{n!}E^{(n)}(\\mathbf{a})\\cdot(\\mathbf{E}-\\mathbf{a})^{n},\n",
    "$$\n",
    "\n",
    "where the electric field is $\\mathbf{E} = \\vec{E} = (E_x,E_y,E_z)$ and $\\mathbf{a}$ is the expansion point. In practice, we always expand around $\\mathbf{a} = \\mathbf{0}$, so it is a Maclaurin series:\n",
    "\n",
    "$$\n",
    "E(\\mathbf{E}) = \\sum_{n=0}^{\\infty} \\frac{1}{n!}\\mathbf{E}^{(n)}(\\mathbf{0})\\cdot\\mathbf{E}^{n}.\n",
    "$$\n",
    "\n",
    "Expanding the above to the first 4 explicit terms gives\n",
    "\n",
    "$$\n",
    "E(\\mathbf{E}) \\approx E^{(0)}(\\mathbf{0}) + \\mathbf{E}^{(1)}(\\mathbf{0})\\cdot\\mathbf{E} + \\frac{1}{2}\\mathbf{E}^{(2)}(\\mathbf{0})\\cdot\\mathbf{E}^{2} + \\frac{1}{6}\\mathbf{E}^{(3)}(\\mathbf{0})\\cdot\\mathbf{E}^{3},\n",
    "$$\n",
    "\n",
    "where we identify\n",
    "\n",
    "\\begin{align}\n",
    "E^{(0)} &\\rightarrow \\textrm{the unperturbed ground-state energy} \\\\\n",
    "E_{a}^{(1)} &\\rightarrow -\\mu_{a},\\textrm{the dipole moment} \\\\\n",
    "E_{ab}^{(2)} &\\rightarrow -\\alpha_{ab},\\textrm{the polarizability} \\\\\n",
    "E_{abc}^{(3)} &\\rightarrow -\\beta_{abc},\\textrm{the first hyperpolarizability}\n",
    "\\end{align}\n",
    "\n",
    "The first hyperpolarizability is the leading-order term that describes the _nonlinear_ response of a system to an external electric field. Each term in the series expansion increases the rank of the coefficient by one: the ground-state energy is a scalar, the dipole is a length 3 vector, the polarizability is a 3-by-3 matrix, and the first hyperpolarizability is a 3-by-3-by-3 tensor.\n",
    "\n",
    "Translated into the language of analytic derivative theory, is it represented as $\\beta_{abc} = \\left.\\frac{\\partial^{3} E}{\\partial E_a \\partial E_b \\partial E_c}\\right|_{\\mathbf{E}=\\mathbf{0}}$, though it is not yet clear how to take derivatives of the energy beyond what is presented in tutorial 6a. Additionally, nothing has been stated about time dependence; everything to this point has been the static case, where the strength of fields do not vary with time. We will first incorporate time dependence, and equations for derivative theory will result.\n",
    "\n",
    "### Notation\n",
    "\n",
    "Before going further, some notational conventions should be mentioned. When used as field indices, $a,b,c,\\dots \\in \\{x,y,z\\}$, the three Cartesian directions.\n",
    "\n",
    "For matrix indices, $\\mu,\\nu,\\lambda,\\sigma,\\dots$ label atomic orbitals (AOs)/basis functions, $i,j,k,l,\\dots$ label occupied molecular orbitals (MOs), $a,b,c,d,\\dots$ label unoccupied/virtual MOs, and $p,q,r,s,\\dots$ label all MOs. Einstein summation is used, so repeated indices are contracted over.\n",
    "\n",
    "## Derivation\n",
    "\n",
    "Again, write the total Hamiltonian as the sum of unperturbed and perturbed components\n",
    "\n",
    "\\begin{align}\n",
    "\\hat{H}(\\mathbf{E},t) &= \\hat{H}^{(0)} + \\hat{V}(\\mathbf{E},t) \\\\\n",
    "\\hat{V}(\\mathbf{E},t) &= -\\mathbf{\\mu} \\cdot \\mathbf{E}(e^{\\pm i \\omega t} + 1)\n",
    "\\end{align}\n",
    "\n",
    "where part of the external field now oscillates with some characteristic frequency $\\omega$. This can be incorporated into the time-dependent Schrodinger equation, which for a stationary state obeys\n",
    "\n",
    "\\begin{align}\n",
    "\\left[ \\hat{H}^{(0)} + \\hat{V}(\\mathbf{E},t) - i\\frac{\\partial}{\\partial t} \\right] \\psi(t) &= 0, \\\\\n",
    "FC - i \\frac{\\partial}{\\partial t} SC &= SC\\epsilon, \\\\\n",
    "\\frac{\\partial}{\\partial t} C^{\\dagger} S C &= 0,\n",
    "\\end{align}\n",
    "\n",
    "where the full definition of the Fock matrix is\n",
    "\n",
    "$$\n",
    "F_{\\mu\\nu} = h_{\\mu\\nu} + D_{\\lambda\\sigma}[2J_{\\mu\\nu\\lambda\\sigma} - K_{\\mu\\nu\\lambda\\sigma}]\n",
    "$$\n",
    "\n",
    "and the density matrix is defined as\n",
    "\n",
    "$$\n",
    "D_{\\mu\\nu} = C_{\\mu p}n_{pq}C_{\\nu q}^{\\dagger},\n",
    "$$\n",
    "\n",
    "where the diagonal occupation number matrix $n_{ii} = 2$ and $n_{aa} = 0$ for RHF.\n",
    "\n",
    "In general, the MO coeffients are perturbation- and time-dependent, but the basis functions themselves are not. This means that when the series expansion for the perturbation above is performed on other quantities, only $F$, $C$, $\\epsilon$, and $D$ are affected. For example, the Lagrangian multiplier matrix $\\epsilon$ can be expanded as\n",
    "\n",
    "$$\n",
    "\\epsilon(\\mathbf{E}) = \\epsilon^0 + E_a\\epsilon^a + \\frac{1}{2!}E_aE_b\\epsilon^{ab} + \\frac{1}{3!}E_aE_bE_c\\epsilon^{abc} + \\cdots\n",
    "$$\n",
    "\n",
    "where $a,b,c,...\\in\\{x,y,z\\}$, and\n",
    "\n",
    "\\begin{align}\n",
    "\\epsilon^{a} &= e^{\\pm i \\omega t} \\epsilon^{a}(\\pm\\omega) + \\epsilon^{a}(0), \\\\\n",
    "\\epsilon^{ab} &= e^{\\pm 2 i \\omega t} \\epsilon^{ab}(\\pm\\omega,\\pm\\omega) + e^{\\pm i \\omega t} \\{ \\epsilon^{ab}(0,\\pm\\omega) + \\epsilon^{ab}(\\pm\\omega,0)\\} + \\epsilon^{ab}(\\pm\\omega,\\mp\\omega) + \\epsilon^{ab}(0,0), \\\\\n",
    "\\epsilon^{abc} &= e^{\\pm 3 i \\omega t} \\epsilon^{abc}(\\pm\\omega,\\pm\\omega,\\pm\\omega) + e^{\\pm 2 i \\omega t} \\{\\epsilon^{abc}(0,\\pm\\omega,\\pm\\omega) + \\epsilon^{abc}(\\pm\\omega,0,\\pm\\omega) + \\epsilon^{abc}(\\pm\\omega,\\pm\\omega,0)\\} + e^{\\pm i \\omega t} \\{\\epsilon^{abc}(\\pm\\omega,\\pm\\omega,\\mp\\omega) + \\epsilon^{abc}(\\pm\\omega,\\mp\\omega,\\pm\\omega) + \\epsilon^{abc}(\\mp\\omega,\\pm\\omega,\\pm\\omega)\\} + e^{\\pm i \\omega t} \\{\\epsilon^{abc}(0,0,\\pm\\omega) + \\epsilon^{abc}(0,\\pm\\omega,0) + \\epsilon^{abc}(\\pm\\omega,0,0)\\} + \\{\\epsilon^{abc}(0,\\pm\\omega,\\mp\\omega) + \\epsilon^{abc}(\\pm\\omega,0,\\mp\\omega) + \\epsilon^{abc}(\\pm\\omega,\\mp\\omega,0)\\} + \\epsilon^{abc}(0,0,0),\n",
    "\\end{align}\n",
    "\n",
    "showing that each order of the expansion consists of all possible phase combinations. For the first hyperpolarizability, only quantities with two at most two field indices are required. Each unique subterm of the expansion corresponds to a different physical observable:\n",
    "\n",
    "* $(0) \\rightarrow$ static polarizability $\\rightarrow \\alpha(0;0) = -Tr[H^{a} D^{b}(0)]$\n",
    "* $(\\pm\\omega) \\rightarrow$ dynamic polarizability $\\rightarrow \\alpha(\\mp\\omega;\\pm\\omega) = -Tr[H^{a} D^{b}(\\pm\\omega)]$\n",
    "\n",
    "* $(0,0) \\rightarrow$ static (first) hyperpolarizability $\\rightarrow \\beta(0;0,0) = -Tr[H^{a} D^{bc}(0,0)]$\n",
    "* $(0,\\pm\\omega) \\rightarrow$ electrooptic Pockels effect (EOPE) $\\rightarrow \\beta(\\mp \\omega;0,\\pm\\omega) = -Tr[H^{a} D^{bc}(0,\\pm\\omega)]$\n",
    "* $(\\pm\\omega,\\pm\\omega) \\rightarrow$ second harmonic generation (SHG) $\\rightarrow \\beta(\\mp 2\\omega;\\pm\\omega,\\pm\\omega) = -Tr[H^{a} D^{bc}(\\pm\\omega,\\pm\\omega)]$\n",
    "* $(\\pm\\omega,\\mp\\omega) \\rightarrow$ optical rectification $\\rightarrow \\beta(0;\\pm\\omega,\\mp\\omega) = -Tr[H^{a} D^{bc}(\\pm\\omega,\\mp\\omega)]$"
   ]
  },
  {
   "cell_type": "markdown",
   "metadata": {},
   "source": [
    "## Wigner's $2n+1$ Rule"
   ]
  },
  {
   "cell_type": "markdown",
   "metadata": {},
   "source": [
    "$$\n",
    "\\begin{array}{cccc}\n",
    "\\hline\n",
    " & \\text{CI: MO/CI space} & \\text{MCSCF: MO/CI space} & \\text{RHF: MO space} \\\\\n",
    "\\hline\n",
    "\\text{Energy}, E & C_{\\mu}^{i} , C_{I} & C_{\\mu}^{i}, C_{I} & C_{\\mu}^{i} \\\\\n",
    "\\text{First Derivative}, \\frac{\\partial E}{\\partial a} & U^{a} , C_{I} & C_{\\mu}^{i}, C_{I} & C_{\\mu}^{i}\\\\\n",
    "\\text{Second Derivative}, \\frac{\\partial^{2} E}{\\partial a \\partial b} & U^{ab} , \\frac{\\partial C_{I}}{\\partial a} & U^{a}, \\frac{\\partial C_{I}}{\\partial a} & U^{a} \\\\\n",
    "\\text{Third Derivative}, \\frac{\\partial^{3} E}{\\partial a \\partial b \\partial c} & U^{abc} , \\frac{\\partial C_{I}}{\\partial a} & U^{a}, \\frac{\\partial C_{I}}{\\partial a} & U^{a} \\\\\n",
    "\\text{Fourth Derivative}, \\frac{\\partial^{4} E}{\\partial a \\partial b \\partial c \\partial d} & U^{abcd} , \\frac{\\partial^{2} C_{I}}{\\partial a \\partial b} & U^{ab}, \\frac{\\partial^{2} C_{I}}{\\partial a \\partial b} & U^{ab} \\\\\n",
    "\\text{Fifth Derivative}, \\frac{\\partial^{5} E}{\\partial a \\partial b \\partial c \\partial d \\partial e} & U^{abcde} , \\frac{\\partial^{2} C_{I}}{\\partial a \\partial b} & U^{ab}, \\frac{\\partial^{2} C_{I}}{\\partial a \\partial b} & U^{ab} \\\\\n",
    "\\hline\n",
    "\\end{array}\n",
    "$$"
   ]
  },
  {
   "cell_type": "markdown",
   "metadata": {},
   "source": [
    "> The U matrices in the table are generally defined by,\n",
    "\n",
    "> $$\n",
    "\\frac{\\partial C_{\\mu}^{i}}{\\partial a} = \\sum_{m}^{\\text{all MOs}} U_{mi}^{a} C_{\\mu}^{i}\n",
    "$$"
   ]
  },
  {
   "cell_type": "markdown",
   "metadata": {},
   "source": [
    "From the above table, we can also see why SCF gradients ($\\frac{\\partial E}{\\partial R_A}$, where $R_A$ is the $A$-th Cartesian component of nucleus $R$) avoid the need to solve for $U$ matrices."
   ]
  },
  {
   "cell_type": "markdown",
   "metadata": {
    "collapsed": true
   },
   "source": [
    "## Computational Procedure"
   ]
  },
  {
   "cell_type": "markdown",
   "metadata": {},
   "source": [
    "The basic quantities we need are the matrices $C, \\mu, F, \\epsilon$, and $U$. The MO coefficients $C$ are already obtained from the ground-state calculation, along with $\\epsilon^{0}$ (the MO energies) and $F^{0}$ (the AO-basis Fock matrix). The dipole matrices $\\mu$ are needed for the linear response (polarizability) calculation, which results in response vectors that compose the off-diagonal blocks of the $U^{a}$ matrix. $C^{a}$ is obtained from $U^{a}$ and $C^{0}$. $G^{a}$ is obtained from $F^{a}$, which comes from performing a single Fock build with the perturbed density $D^{a}$. Finally, $\\epsilon^{a}$ can be constructed."
   ]
  },
  {
   "cell_type": "code",
   "execution_count": 2,
   "metadata": {},
   "outputs": [],
   "source": [
    "import numpy as np\n",
    "np.set_printoptions(3, linewidth=100, suppress=True)    # when we inspect the vectors/matrices,\n",
    "                                                        # use a prettier format for printing\n",
    "import psi4"
   ]
  },
  {
   "cell_type": "markdown",
   "metadata": {},
   "source": [
    "The energy and density convergence criteria are tightened from defaults, as response properties are sensitive to the quality of the ground-state wavefunction."
   ]
  },
  {
   "cell_type": "code",
   "execution_count": 3,
   "metadata": {},
   "outputs": [],
   "source": [
    "mol = psi4.geometry('''\n",
    "    O\n",
    "    H  1  0.9435\n",
    "    H  1  0.9435  2  105.9443\n",
    "    symmetry c1\n",
    "''')\n",
    "psi4.set_options({\n",
    "    \"basis\": \"aug-cc-pVDZ\",\n",
    "    \"scf_type\": \"direct\",\n",
    "    \"df_scf_guess\": False,\n",
    "    \"e_convergence\": 1e-9,\n",
    "    \"d_convergence\": 1e-9,\n",
    "})"
   ]
  },
  {
   "cell_type": "code",
   "execution_count": 4,
   "metadata": {},
   "outputs": [],
   "source": [
    "import sys\n",
    "sys.path.append('../../Self-Consistent-Field')\n",
    "from helper_CPHF import helper_CPHF"
   ]
  },
  {
   "cell_type": "markdown",
   "metadata": {},
   "source": [
    "The helper encapsulates the solution of the ground-state wavefunction followed by the frequency-(in)dependent linear response equations,\n",
    "\n",
    "$$\n",
    "\\left[\n",
    "\\begin{pmatrix}\n",
    "\\mathbf{A} & \\mathbf{B} \\\\ \n",
    "\\mathbf{B}^{*} & \\mathbf{A}^{*}\n",
    "\\end{pmatrix}\n",
    "- \\omega_{f}\n",
    "\\begin{pmatrix}\n",
    "\\mathbf{\\Sigma} & \\mathbf{\\Delta} \\\\ \n",
    "-\\mathbf{\\Delta}^{*} & -\\mathbf{\\Sigma}^{*}\n",
    "\\end{pmatrix}\n",
    "\\right]\n",
    "\\begin{pmatrix}\n",
    "\\mathbf{X} \\\\ \n",
    "\\mathbf{Y}\n",
    "\\end{pmatrix}\n",
    "=\n",
    "\\begin{pmatrix}\n",
    "\\mathbf{V} \\\\ \n",
    "-\\mathbf{V}^{*}\n",
    "\\end{pmatrix}\n",
    ",\n",
    "$$\n",
    "\n",
    "either directly (via matrix inversion in the MO basis) or iteratively (via repeated matrix-vector products using Fock builds). For a HF/DFT reference with canonical orbitals, the above equations reduce to\n",
    "\n",
    "$$\n",
    "\\left[\n",
    "\\begin{pmatrix}\n",
    "\\mathbf{A} & \\mathbf{B} \\\\ \n",
    "\\mathbf{B} & \\mathbf{A}\n",
    "\\end{pmatrix}\n",
    "- \\omega_{f}\n",
    "\\begin{pmatrix}\n",
    "\\mathbf{1} & \\mathbf{0} \\\\ \n",
    "\\mathbf{0} & -\\mathbf{1}\n",
    "\\end{pmatrix}\n",
    "\\right]\n",
    "\\begin{pmatrix}\n",
    "\\mathbf{X} \\\\ \n",
    "\\mathbf{Y}\n",
    "\\end{pmatrix}\n",
    "=\n",
    "\\begin{pmatrix}\n",
    "\\mathbf{V} \\\\ \n",
    "-\\mathbf{V}\n",
    "\\end{pmatrix}\n",
    ".\n",
    "$$\n",
    "\n",
    "In the static limit $(\\omega_f = 0)$, the whole superoverlap matrix vanishes, and the CPHF equations can be reduced to those used in tutorial 6a."
   ]
  },
  {
   "cell_type": "code",
   "execution_count": 5,
   "metadata": {},
   "outputs": [
    {
     "name": "stdout",
     "output_type": "stream",
     "text": [
      "\n",
      "Number of occupied orbitals: 5\n",
      "Number of basis functions: 41\n",
      "\n",
      "Tensor sizes:\n",
      "ERI tensor           0.02 GB.\n",
      "oNNN MO tensor       0.00 GB.\n",
      "ovov Hessian tensor  0.00 GB.\n",
      "\n",
      "Forming Hessian...\n",
      "...formed Hessian in 0.479 seconds.\n",
      "\n",
      "Inverting Hessian...\n",
      "...inverted Hessian in 0.011 seconds.\n"
     ]
    }
   ],
   "source": [
    "solver = helper_CPHF(mol)\n",
    "solver.run()"
   ]
  },
  {
   "cell_type": "markdown",
   "metadata": {},
   "source": [
    "Because we are calculating $\\beta$ from $U^{a}$ rather than $U^{ab}$, we also obtain linear response properties from a quadratic response calculation. This holds for any order of response, where lower-order response functions are automatically obtained from higher-order response calculations using the $2n+1$ rule."
   ]
  },
  {
   "cell_type": "code",
   "execution_count": 6,
   "metadata": {},
   "outputs": [
    {
     "name": "stdout",
     "output_type": "stream",
     "text": [
      "[[ 7.2587 -0.      0.    ]\n",
      " [-0.      8.7969  0.    ]\n",
      " [ 0.      0.      7.854 ]]\n"
     ]
    }
   ],
   "source": [
    "print(np.around(solver.polar, 4))"
   ]
  },
  {
   "cell_type": "code",
   "execution_count": 7,
   "metadata": {},
   "outputs": [
    {
     "name": "stdout",
     "output_type": "stream",
     "text": [
      "dimension of response vectors from linear response: (3, 180)\n"
     ]
    }
   ],
   "source": [
    "# epsilon^{0}\n",
    "moenergies = solver.epsilon\n",
    "C = np.asarray(solver.C)\n",
    "Co = solver.Co\n",
    "Cv = solver.Cv\n",
    "nbf, norb = C.shape\n",
    "nocc = Co.shape[1]\n",
    "nvir = norb - nocc\n",
    "nov = nocc * nvir\n",
    "# the response vectors X_x, X_y, X_z; Y_x, Y_y, Y_z not needed separately for static response\n",
    "x = np.asarray(solver.x)\n",
    "ncomp = x.shape[0]\n",
    "# reuse the AO-basis dipole integrals\n",
    "integrals_ao = np.asarray([np.asarray(dipole_ao_component)\n",
    "                           for dipole_ao_component in solver.tmp_dipoles])\n",
    "print(\"dimension of response vectors from linear response: {}\".format(x.shape))"
   ]
  },
  {
   "cell_type": "markdown",
   "metadata": {},
   "source": [
    "The foundation of the CPHF equations is that the right-hand side $\\mathbf{V}$ is a perturbation on the wavefunction causing single excitations from the occupied orbitals to virtual orbitals, the coefficents of which are in the response vectors $\\mathbf{X}$; the vectors $\\mathbf{Y}$ describe single deexcitations. Because the full (square) $\\mathbf{U}$ matrices are required, all MO-based quantities must be of shape $[N_{orb}, N_{orb}]$ rather than $[N_{occ}, N_{vir}]$."
   ]
  },
  {
   "cell_type": "code",
   "execution_count": 8,
   "metadata": {},
   "outputs": [],
   "source": [
    "# form full MO-basis dipole integrals\n",
    "integrals_mo = np.empty(shape=(ncomp, norb, norb))\n",
    "for i in range(ncomp):\n",
    "    integrals_mo[i, ...] = (C.T).dot(integrals_ao[i, ...]).dot(C)"
   ]
  },
  {
   "cell_type": "markdown",
   "metadata": {},
   "source": [
    "Similarly, $\\mathbf{X}$ and $\\mathbf{Y}$ form the off-diagonal blocks of the $\\mathbf{U}$ matrices. They are usually stored as in DALTON, where each vector is of length $2N_{ov}$, with \\mathbf{X} on top of \\mathbf{Y"
   ]
  },
  {
   "cell_type": "code",
   "execution_count": 9,
   "metadata": {},
   "outputs": [],
   "source": [
    "# repack response vectors to [norb, norb]; 1/2 is due to RHF\n",
    "U = np.zeros_like(integrals_mo)\n",
    "for i in range(ncomp):\n",
    "    U[i, :nocc, nocc:] = 0.5 * x[i, ...].reshape(nocc, nvir)\n",
    "    U[i, nocc:, :nocc] = -0.5 * x[i, ...].reshape(nocc, nvir).T"
   ]
  },
  {
   "cell_type": "code",
   "execution_count": 10,
   "metadata": {},
   "outputs": [],
   "source": [
    "# form G matrices from perturbation and generalized Fock matrices; do\n",
    "# one more Fock build for each response vector\n",
    "jk = psi4.core.JK.build(solver.scf_wfn.basisset())\n",
    "jk.initialize()\n",
    "G = np.empty_like(U)\n",
    "R = psi4.core.Matrix(nbf, nocc)\n",
    "npR = np.asarray(R)\n",
    "for i in range(ncomp):\n",
    "    V = integrals_mo[i, ...]\n",
    "\n",
    "    # eqn. (III-1b)\n",
    "    # Note: this simplified handling of the response vector\n",
    "    # transformation for the Fock build is insufficient for\n",
    "    # frequency-dependent response. 1/2 is due to RHF\n",
    "    jk.C_clear()\n",
    "    L = Co\n",
    "    npR[...] = x[i, ...].reshape(nocc, nvir).dot(np.asarray(Cv).T).T\n",
    "    jk.C_left_add(L)\n",
    "    jk.C_right_add(R)\n",
    "    jk.compute()\n",
    "    J = 0.5 * np.asarray(jk.J()[0])\n",
    "    K = 0.5 * np.asarray(jk.K()[0])\n",
    "\n",
    "    # eqn. (21b)\n",
    "    F = (C.T).dot(4 * J - K.T - K).dot(C)\n",
    "    G[i, ...] = V + F\n",
    "\n",
    "# form epsilon matrices, eqn. (34)\n",
    "E = G.copy()\n",
    "omega = 0\n",
    "for i in range(ncomp):\n",
    "    eoU = (moenergies[..., np.newaxis] + omega) * U[i, ...]\n",
    "    Ue = U[i, ...] * moenergies[np.newaxis, ...]\n",
    "    E[i, ...] += (eoU - Ue)\n",
    "\n",
    "# Assume some symmetry and calculate only part of the tensor.\n",
    "# eqn. (VII-4)\n",
    "hyperpolarizability = np.zeros(shape=(6, 3))\n",
    "off1 = [0, 1, 2, 0, 0, 1]\n",
    "off2 = [0, 1, 2, 1, 2, 2]\n",
    "for r in range(6):\n",
    "    b = off1[r]\n",
    "    c = off2[r]\n",
    "    for a in range(3):\n",
    "        tl1 = 2 * np.trace(U[a, ...].dot(G[b, ...]).dot(U[c, ...])[:nocc, :nocc])\n",
    "        tl2 = 2 * np.trace(U[a, ...].dot(G[c, ...]).dot(U[b, ...])[:nocc, :nocc])\n",
    "        tl3 = 2 * np.trace(U[c, ...].dot(G[a, ...]).dot(U[b, ...])[:nocc, :nocc])\n",
    "        tr1 = np.trace(U[c, ...].dot(U[b, ...]).dot(E[a, ...])[:nocc, :nocc])\n",
    "        tr2 = np.trace(U[b, ...].dot(U[c, ...]).dot(E[a, ...])[:nocc, :nocc])\n",
    "        tr3 = np.trace(U[c, ...].dot(U[a, ...]).dot(E[b, ...])[:nocc, :nocc])\n",
    "        tr4 = np.trace(U[a, ...].dot(U[c, ...]).dot(E[b, ...])[:nocc, :nocc])\n",
    "        tr5 = np.trace(U[b, ...].dot(U[a, ...]).dot(E[c, ...])[:nocc, :nocc])\n",
    "        tr6 = np.trace(U[a, ...].dot(U[b, ...]).dot(E[c, ...])[:nocc, :nocc])\n",
    "        tl = tl1 + tl2 + tl3\n",
    "        tr = tr1 + tr2 + tr3 + tr4 + tr5 + tr6\n",
    "        hyperpolarizability[r, a] = -2 * (tl - tr)"
   ]
  },
  {
   "cell_type": "code",
   "execution_count": 11,
   "metadata": {
    "scrolled": true
   },
   "outputs": [
    {
     "name": "stdout",
     "output_type": "stream",
     "text": [
      "\n",
      "First dipole hyperpolarizability (static):\n",
      "[[ -0.       -0.       -0.10826]\n",
      " [ -0.       -0.      -11.22412]\n",
      " [ -0.       -0.       -4.3645 ]\n",
      " [ -0.       -0.        0.     ]\n",
      " [ -0.10826   0.       -0.     ]\n",
      " [  0.      -11.22412  -0.     ]]\n"
     ]
    }
   ],
   "source": [
    "ref_static = np.array([\n",
    "    [ 0.00000001,   0.00000000,  -0.10826460],\n",
    "    [ 0.00000000,   0.00000000, -11.22412215],\n",
    "    [ 0.00000000,   0.00000000,  -4.36450397],\n",
    "    [ 0.00000000,   0.00000000,  -0.00000001],\n",
    "    [-0.10826460,  -0.00000001,   0.00000000],\n",
    "    [-0.00000001, -11.22412215,   0.00000000]\n",
    "])\n",
    "assert np.allclose(ref_static, hyperpolarizability, rtol=0.0, atol=1.0e-3)\n",
    "print('\\nFirst dipole hyperpolarizability (static):')\n",
    "print(hyperpolarizability)"
   ]
  },
  {
   "cell_type": "markdown",
   "metadata": {},
   "source": [
    "## References\n",
    "\n"
   ]
  },
  {
   "cell_type": "markdown",
   "metadata": {},
   "source": [
    "* [Yamaguchi, Yukio; Goddard, John D.; Osamura, Yoshihiro; Schaefer III, Henry F. _A New Dimension to Quantum Chemistry: Analytic Derivative Methods in Ab Initio Molecular Electronic Structure Theory (International Series of Monographs on Chemistry);_ Oxford University Press: 1994.](https://isbnsearch.org/isbn/9780195070286)\n",
    "\n",
    "* [Karna:1991:487](http://dx.doi.org/10.1002/jcc.540120409): Karna, Shashi P.; Dupuis, Michel. Frequency dependent nonlinear optical properties of molecules: Formulation and implementation in the HONDO program _J. Comput. Chem._ **12** 487-504 (1991)"
   ]
  }
 ],
 "metadata": {
  "kernelspec": {
   "display_name": "Python 3",
   "language": "python",
   "name": "python3"
  },
  "language_info": {
   "codemirror_mode": {
    "name": "ipython",
    "version": 3
   },
   "file_extension": ".py",
   "mimetype": "text/x-python",
   "name": "python",
   "nbconvert_exporter": "python",
   "pygments_lexer": "ipython3",
   "version": "3.6.3"
  }
 },
 "nbformat": 4,
 "nbformat_minor": 2
}
