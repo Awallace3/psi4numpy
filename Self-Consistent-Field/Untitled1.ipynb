{
 "cells": [
  {
   "cell_type": "code",
   "execution_count": 23,
   "metadata": {},
   "outputs": [
    {
     "name": "stdout",
     "output_type": "stream",
     "text": [
      "MP2 Gradient:\n",
      " [[ 0.            0.           -0.0541009414]\n",
      " [-0.           -0.0666061556  0.0270504707]\n",
      " [-0.            0.0666061556  0.0270504707]]\n"
     ]
    }
   ],
   "source": [
    "import time\n",
    "import numpy as np\n",
    "np.set_printoptions(precision=10, linewidth=200, suppress=True)\n",
    "import psi4\n",
    "\n",
    "mol = psi4.geometry(\"\"\"\n",
    "O\n",
    "H 1 1.1\n",
    "H 1 1.1 2 104\n",
    "symmetry c1\n",
    "\"\"\")\n",
    "\n",
    "psi4.core.set_active_molecule(mol)\n",
    "\n",
    "options = {'BASIS':'STO-3G', 'SCF_TYPE':'DF',\n",
    "           'E_CONVERGENCE':1e-10,\n",
    "           'D_CONVERGENCE':1e-10}\n",
    "\n",
    "psi4.set_options(options)\n",
    "\n",
    "mp2_grad = psi4.gradient('MP2')\n",
    "#print(\"MP2 Correction = \",mp2_e - rhf_e)\n",
    "\n",
    "mp2_grad.print_out()\n",
    "print(\"MP2 Gradient:\\n\",np.asarray(mp2_grad))"
   ]
  },
  {
   "cell_type": "code",
   "execution_count": null,
   "metadata": {},
   "outputs": [],
   "source": []
  }
 ],
 "metadata": {
  "kernelspec": {
   "display_name": "Python 3",
   "language": "python",
   "name": "python3"
  },
  "language_info": {
   "codemirror_mode": {
    "name": "ipython",
    "version": 3
   },
   "file_extension": ".py",
   "mimetype": "text/x-python",
   "name": "python",
   "nbconvert_exporter": "python",
   "pygments_lexer": "ipython3",
   "version": "3.5.4"
  }
 },
 "nbformat": 4,
 "nbformat_minor": 2
}
